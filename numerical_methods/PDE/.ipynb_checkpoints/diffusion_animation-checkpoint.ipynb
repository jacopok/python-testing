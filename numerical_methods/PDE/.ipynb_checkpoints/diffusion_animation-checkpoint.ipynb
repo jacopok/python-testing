{
 "cells": [
  {
   "cell_type": "code",
   "execution_count": 43,
   "metadata": {},
   "outputs": [],
   "source": [
    "import ipywidgets\n",
    "import matplotlib.pyplot as plt\n",
    "\n",
    "from diffusion_solver import diffusion"
   ]
  },
  {
   "cell_type": "code",
   "execution_count": 44,
   "metadata": {},
   "outputs": [],
   "source": [
    "N_x=200\n",
    "tstep =1e-4\n",
    "tmax=5\n",
    "test_extremes = (273, 323)\n",
    "test_state = 293 * np.ones(N_x)\n",
    "test_length_step = 1 / N_x\n",
    "test_diffusion_coefficient = 4.25e-2\n",
    "test_times = np.arange(0,tmax,tstep)\n",
    "\n",
    "solution = diffusion(test_times, test_state, test_extremes, test_diffusion_coefficient, test_length_step)"
   ]
  },
  {
   "cell_type": "code",
   "execution_count": 45,
   "metadata": {},
   "outputs": [
    {
     "data": {
      "application/vnd.jupyter.widget-view+json": {
       "model_id": "090040151e3c4785ac4d6f3b469b1a82",
       "version_major": 2,
       "version_minor": 0
      },
      "text/plain": [
       "interactive(children=(FloatSlider(value=2.0, description='t', max=5.0, step=0.0001), Output()), _dom_classes=(…"
      ]
     },
     "metadata": {},
     "output_type": "display_data"
    },
    {
     "data": {
      "text/plain": [
       "<function __main__.p(t)>"
      ]
     },
     "execution_count": 45,
     "metadata": {},
     "output_type": "execute_result"
    }
   ],
   "source": [
    "def p(t):\n",
    "    plt.plot(solution[int(t/tstep)])\n",
    "\n",
    "ipywidgets.interact(p, t=(0,tmax,tstep))"
   ]
  },
  {
   "cell_type": "code",
   "execution_count": null,
   "metadata": {},
   "outputs": [],
   "source": []
  }
 ],
 "metadata": {
  "kernelspec": {
   "display_name": "Python 3",
   "language": "python",
   "name": "python3"
  },
  "language_info": {
   "codemirror_mode": {
    "name": "ipython",
    "version": 3
   },
   "file_extension": ".py",
   "mimetype": "text/x-python",
   "name": "python",
   "nbconvert_exporter": "python",
   "pygments_lexer": "ipython3",
   "version": "3.7.5"
  }
 },
 "nbformat": 4,
 "nbformat_minor": 2
}
