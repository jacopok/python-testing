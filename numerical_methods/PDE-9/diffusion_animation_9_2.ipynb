{
 "cells": [
  {
   "cell_type": "code",
   "execution_count": 4,
   "metadata": {},
   "outputs": [],
   "source": [
    "import ipywidgets\n",
    "import matplotlib.pyplot as plt\n",
    "from astropy.visualization import astropy_mpl_style\n",
    "plt.style.use(astropy_mpl_style)\n",
    "\n",
    "from diffusion_solver_9_2 import diffusion"
   ]
  },
  {
   "cell_type": "code",
   "execution_count": 14,
   "metadata": {},
   "outputs": [],
   "source": [
    "# number of spatial divisions\n",
    "N_x=200\n",
    "# solution is computed between 0 and tmax\n",
    "tmax=5\n",
    "# fixed values for the function at the edges\n",
    "extremes = (273, 323)\n",
    "\n",
    "# values of the fuction for t=0\n",
    "initial_state = 293 * np.ones(N_x-2)\n",
    "\n",
    "diffusion_coefficient = 4.25e-2 # cm^2 / s\n",
    "L = 1\n",
    "length_step = L / N_x # cm\n",
    "tstep =1e-4 # seconds\n",
    "\n",
    "# diffusion_coefficient * tstep / length_step**2 \n",
    "# should be small\n",
    "\n",
    "times = np.arange(0,tmax,tstep)\n",
    "\n",
    "solution = diffusion(times, initial_state, extremes, diffusion_coefficient, length_step)"
   ]
  },
  {
   "cell_type": "code",
   "execution_count": 15,
   "metadata": {},
   "outputs": [
    {
     "data": {
      "text/plain": [
       "0.17"
      ]
     },
     "execution_count": 15,
     "metadata": {},
     "output_type": "execute_result"
    }
   ],
   "source": [
    "diffusion_coefficient * tstep / length_step**2 "
   ]
  },
  {
   "cell_type": "code",
   "execution_count": 16,
   "metadata": {
    "scrolled": false
   },
   "outputs": [
    {
     "data": {
      "application/vnd.jupyter.widget-view+json": {
       "model_id": "faf428da32e34677ad7d7e7639ba3604",
       "version_major": 2,
       "version_minor": 0
      },
      "text/plain": [
       "interactive(children=(FloatSlider(value=2.0, description='t', max=5.0, step=0.0001), Output()), _dom_classes=(…"
      ]
     },
     "metadata": {},
     "output_type": "display_data"
    },
    {
     "data": {
      "text/plain": [
       "<function __main__.p1(t)>"
      ]
     },
     "execution_count": 16,
     "metadata": {},
     "output_type": "execute_result"
    }
   ],
   "source": [
    "positions = np.arange(0, L, length_step)\n",
    "\n",
    "def p1(t):\n",
    "    plt.plot(positions, solution[int(t/tstep)])\n",
    "    plt.xlabel('Position [cm]')\n",
    "    plt.ylabel('Temperature [K]')\n",
    "\n",
    "ipywidgets.interact(p1, t=(0,tmax,tstep))"
   ]
  },
  {
   "cell_type": "code",
   "execution_count": 7,
   "metadata": {},
   "outputs": [],
   "source": [
    "noise = np.random.random(N_x-2) * 50 - 25\n",
    "noisy_state = initial_state + noise\n",
    "noisy_solution = diffusion(times, noisy_state, extremes, diffusion_coefficient, length_step)"
   ]
  },
  {
   "cell_type": "code",
   "execution_count": 8,
   "metadata": {},
   "outputs": [
    {
     "data": {
      "application/vnd.jupyter.widget-view+json": {
       "model_id": "08978b505fce44ef903046d27fd6e7bf",
       "version_major": 2,
       "version_minor": 0
      },
      "text/plain": [
       "interactive(children=(FloatSlider(value=2.0, description='t', max=5.0, step=0.0001), Output()), _dom_classes=(…"
      ]
     },
     "metadata": {},
     "output_type": "display_data"
    },
    {
     "data": {
      "text/plain": [
       "<function __main__.p2(t)>"
      ]
     },
     "execution_count": 8,
     "metadata": {},
     "output_type": "execute_result"
    }
   ],
   "source": [
    "def p2(t):\n",
    "    plt.plot(positions, noisy_solution[int(t/tstep)])\n",
    "    plt.xlabel('Position [cm]')\n",
    "    plt.ylabel('Temperature [K]')\n",
    "\n",
    "\n",
    "ipywidgets.interact(p2, t=(0,tmax,tstep))"
   ]
  },
  {
   "cell_type": "code",
   "execution_count": 9,
   "metadata": {},
   "outputs": [
    {
     "data": {
      "application/vnd.jupyter.widget-view+json": {
       "model_id": "e97d22e440dd418b91ad7079803d4bc7",
       "version_major": 2,
       "version_minor": 0
      },
      "text/plain": [
       "interactive(children=(FloatSlider(value=2.0, description='t', max=5.0, step=0.0001), Output()), _dom_classes=(…"
      ]
     },
     "metadata": {},
     "output_type": "display_data"
    },
    {
     "data": {
      "text/plain": [
       "<function __main__.p3(t)>"
      ]
     },
     "execution_count": 9,
     "metadata": {},
     "output_type": "execute_result"
    }
   ],
   "source": [
    "# Bonus: Fourier transform of the solution at varying time\n",
    "\n",
    "\n",
    "ft = np.fft.fft(solution)\n",
    "def p3(t):\n",
    "    plt.plot(abs(ft[int(t/tstep)][1:int(N_x/2)]))\n",
    "\n",
    "ipywidgets.interact(p3, t=(0,tmax,tstep))"
   ]
  },
  {
   "cell_type": "code",
   "execution_count": null,
   "metadata": {},
   "outputs": [],
   "source": []
  },
  {
   "cell_type": "code",
   "execution_count": null,
   "metadata": {},
   "outputs": [],
   "source": []
  },
  {
   "cell_type": "code",
   "execution_count": null,
   "metadata": {},
   "outputs": [],
   "source": []
  }
 ],
 "metadata": {
  "kernelspec": {
   "display_name": "Python 3",
   "language": "python",
   "name": "python3"
  },
  "language_info": {
   "codemirror_mode": {
    "name": "ipython",
    "version": 3
   },
   "file_extension": ".py",
   "mimetype": "text/x-python",
   "name": "python",
   "nbconvert_exporter": "python",
   "pygments_lexer": "ipython3",
   "version": "3.7.6"
  }
 },
 "nbformat": 4,
 "nbformat_minor": 2
}
