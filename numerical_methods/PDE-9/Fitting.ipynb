{
 "cells": [
  {
   "cell_type": "code",
   "execution_count": null,
   "metadata": {},
   "outputs": [],
   "source": [
    "%run laplace_solver.py"
   ]
  },
  {
   "cell_type": "code",
   "execution_count": null,
   "metadata": {},
   "outputs": [],
   "source": [
    "f1, e1 = test_iteration(test_field, iteration_step, tol=1e-5)"
   ]
  },
  {
   "cell_type": "code",
   "execution_count": null,
   "metadata": {},
   "outputs": [],
   "source": [
    "x = np.arange(len(e1))+1\n",
    "from ipywidgets import interact\n",
    "\n",
    "def pl(a, b, c, d, cutoff):\n",
    "    @np.vectorize\n",
    "    def func(x, a, b, c, d,cutoff):\n",
    "        if (x<cutoff):\n",
    "            return(a * np.exp(-x/b) / x**c)\n",
    "        else:\n",
    "            a2 = a * np.exp(cutoff*(-1/b + 1/d)) / cutoff**c\n",
    "            return(a2 * np.exp(-x/d))\n",
    "    plt.semilogy(x, e1)\n",
    "    plt.semilogy(x, func(x, a, b, c, d, cutoff))\n",
    "\n",
    "interact(pl, a=1.9, b=1000., c=1.2, d=1000, cutoff=500)"
   ]
  },
  {
   "cell_type": "code",
   "execution_count": null,
   "metadata": {},
   "outputs": [],
   "source": []
  }
 ],
 "metadata": {
  "kernelspec": {
   "display_name": "Python 3",
   "language": "python",
   "name": "python3"
  },
  "language_info": {
   "codemirror_mode": {
    "name": "ipython",
    "version": 3
   },
   "file_extension": ".py",
   "mimetype": "text/x-python",
   "name": "python",
   "nbconvert_exporter": "python",
   "pygments_lexer": "ipython3",
   "version": "3.7.6"
  }
 },
 "nbformat": 4,
 "nbformat_minor": 2
}
