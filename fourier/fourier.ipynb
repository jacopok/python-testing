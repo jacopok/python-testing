{
 "metadata": {
  "language_info": {
   "codemirror_mode": {
    "name": "ipython",
    "version": 3
   },
   "file_extension": ".py",
   "mimetype": "text/x-python",
   "name": "python",
   "nbconvert_exporter": "python",
   "pygments_lexer": "ipython3",
   "version": "3.8.6-final"
  },
  "orig_nbformat": 2,
  "kernelspec": {
   "name": "python3",
   "display_name": "Python 3"
  }
 },
 "nbformat": 4,
 "nbformat_minor": 2,
 "cells": [
  {
   "cell_type": "code",
   "execution_count": 23,
   "metadata": {},
   "outputs": [],
   "source": [
    "def y(x, A):\n",
    "    # return(np.cos(2 * np. pi * x))\n",
    "    return(np.sin(A * np.sin(x)))\n",
    "\n",
    "from scipy.signal import find_peaks"
   ]
  },
  {
   "cell_type": "code",
   "execution_count": 26,
   "metadata": {},
   "outputs": [],
   "source": [
    "%matplotlib qt\n",
    "cyc = 3\n",
    "num=10000\n",
    "x = np.linspace(0, cyc * 2 * np.pi, num=num)\n",
    "\n",
    "# for A in np.linspace(1, 2, num=10):\n",
    "#     sig = y(x, A)\n",
    "#     ft = np.fft.rfft(sig)\n",
    "#     freq = np.fft.rfftfreq(sig.size, d=np.gradient(x)[0])\n",
    "#     plt.loglog(freq, abs(ft))\n",
    "# plt.show()"
   ]
  },
  {
   "cell_type": "code",
   "execution_count": 27,
   "metadata": {},
   "outputs": [],
   "source": [
    "p = []\n",
    "for A in np.linspace(.1, 2 * np.pi, num=10):\n",
    "    sig = y(x, A)\n",
    "    plt.plot(x, sig)\n",
    "    # ft = np.fft.rfft(sig)\n",
    "    # freq = np.fft.rfftfreq(sig.size, d=np.gradient(x)[0])\n",
    "    # peaks, _ = find_peaks(abs(ft), prominence=15)\n",
    "    # p.append(freq[peaks])\n",
    "    # plt.loglog(freq* 2 * np.pi, abs(ft))\n",
    "    # plt.plot(freq[peaks] * 2 * np.pi, abs(ft)[peaks], 'x')\n",
    "plt.show()"
   ]
  },
  {
   "cell_type": "code",
   "execution_count": 95,
   "metadata": {},
   "outputs": [],
   "source": [
    "from scipy.stats import gaussian_kde\n",
    "flat_p = [it for ar in p for it in ar]\n",
    "kde = gaussian_kde(flat_p)\n",
    "# plt.semilogx(freq, kde.evaluate(freq))\n",
    "plt.hist(np.array(flat_p) * 2  * np.pi, bins=400)\n",
    "# plt.hist(p)\n",
    "plt.show()"
   ]
  },
  {
   "cell_type": "code",
   "execution_count": null,
   "metadata": {},
   "outputs": [],
   "source": []
  }
 ]
}