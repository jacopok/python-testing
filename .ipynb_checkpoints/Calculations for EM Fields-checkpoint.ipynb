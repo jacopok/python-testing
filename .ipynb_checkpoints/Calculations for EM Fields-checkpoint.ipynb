{
 "cells": [
  {
   "cell_type": "code",
   "execution_count": 3,
   "metadata": {},
   "outputs": [],
   "source": [
    "from sympy import *"
   ]
  },
  {
   "cell_type": "code",
   "execution_count": 32,
   "metadata": {},
   "outputs": [],
   "source": [
    "sigma, x, b, y, t, theta, omega = symbols(\"r a sigma x b y t theta omega\")"
   ]
  },
  {
   "cell_type": "code",
   "execution_count": 20,
   "metadata": {},
   "outputs": [
    {
     "name": "stdout",
     "output_type": "stream",
     "text": [
      "\\frac{\\sigma^{2}}{2} - \\frac{\\sigma^{2} e^{- \\frac{a^{2}}{\\sigma^{2}}}}{2}\n"
     ]
    }
   ],
   "source": [
    "almost_gaussian = integrate(r * exp(-r**2 / sigma**2), (r, 0, a))\n",
    "print(latex(almost_gaussian))"
   ]
  },
  {
   "cell_type": "code",
   "execution_count": 10,
   "metadata": {},
   "outputs": [],
   "source": [
    "integral = integrate (1/sqrt(a**2 + x**2), x)"
   ]
  },
  {
   "cell_type": "code",
   "execution_count": 18,
   "metadata": {},
   "outputs": [
    {
     "data": {
      "image/png": "[encoded data removed]",
      "text/latex": [
       "$$\\frac{\\frac{x}{\\sqrt{- r^{2} + x^{2}}} + 1}{x + \\sqrt{- r^{2} + x^{2}}}$$"
      ],
      "text/plain": [
       "      x           \n",
       "────────────── + 1\n",
       "   ___________    \n",
       "  ╱    2    2     \n",
       "╲╱  - r  + x      \n",
       "──────────────────\n",
       "       ___________\n",
       "      ╱    2    2 \n",
       "x + ╲╱  - r  + x  "
      ]
     },
     "execution_count": 18,
     "metadata": {},
     "output_type": "execute_result"
    }
   ],
   "source": [
    "deriv = diff(log(x + sqrt(x**2 - r**2)), x)\n",
    "init_printing()\n",
    "deriv"
   ]
  },
  {
   "cell_type": "code",
   "execution_count": 21,
   "metadata": {},
   "outputs": [],
   "source": [
    "mag_field = diff(log((t + sqrt(t**2 - x**2 - y**2))/(sqrt(x**2 + y**2))), y)"
   ]
  },
  {
   "cell_type": "code",
   "execution_count": 50,
   "metadata": {},
   "outputs": [
    {
     "data": {
      "image/png": "[encoded data removed]",
      "text/latex": [
       "$$- \\frac{a^{2} \\sin{\\left (\\theta \\right )} + r^{2} \\sin{\\left (\\theta \\right )} + \\sqrt{a^{2} + r^{2}} \\sqrt{a^{2}} \\sin{\\left (\\theta \\right )}}{a^{2} r + r \\sqrt{a^{2} + r^{2}} \\sqrt{a^{2}}}$$"
      ],
      "text/plain": [
       " ⎛                           _________    ____       ⎞ \n",
       " ⎜ 2           2            ╱  2    2    ╱  2        ⎟ \n",
       "-⎝a ⋅sin(θ) + r ⋅sin(θ) + ╲╱  a  + r  ⋅╲╱  a  ⋅sin(θ)⎠ \n",
       "───────────────────────────────────────────────────────\n",
       "                         _________    ____             \n",
       "              2         ╱  2    2    ╱  2              \n",
       "             a ⋅r + r⋅╲╱  a  + r  ⋅╲╱  a               "
      ]
     },
     "execution_count": 50,
     "metadata": {},
     "output_type": "execute_result"
    }
   ],
   "source": [
    "a, r = symbols(\"a r\", positive=True)\n",
    "mag_field = mag_field.subs(y, r * sin(theta)).subs(x, r * cos(theta)).subs(t, sqrt(a**2 + r**2))\n",
    "cancel(powsimp(simplify(mag_field)))"
   ]
  },
  {
   "cell_type": "code",
   "execution_count": 54,
   "metadata": {},
   "outputs": [
    {
     "data": {
      "image/png": "[encoded data removed]",
      "text/latex": [
       "$$\\frac{1}{2}$$"
      ],
      "text/plain": [
       "1/2"
      ]
     },
     "execution_count": 54,
     "metadata": {},
     "output_type": "execute_result"
    }
   ],
   "source": [
    "omega = symbols(\"omega\", positive=True)\n",
    "omega / 2 / pi * integrate(cos(theta * omega)**2 , (theta, 0, 2 * pi / omega))"
   ]
  },
  {
   "cell_type": "code",
   "execution_count": 72,
   "metadata": {},
   "outputs": [],
   "source": [
    "a = symbols(\"a\", is_negative=True)\n",
    "omega = Function(\"omega\")\n",
    "omega_0 = symbols(\"omega_0\", is_positive=True)\n",
    "sols = simplify(dsolve(Eq(Derivative(omega(t), t), a* omega(t) **3), omega(t)))#, ics={omega(0):omega_0}))\n",
    "const =  solve([eps.subs(t, 0) for eps in sols], dict=True)"
   ]
  },
  {
   "cell_type": "code",
   "execution_count": null,
   "metadata": {
    "collapsed": true
   },
   "outputs": [],
   "source": []
  }
 ],
 "metadata": {
  "kernelspec": {
   "display_name": "Python 3",
   "language": "python",
   "name": "python3"
  },
  "language_info": {
   "codemirror_mode": {
    "name": "ipython",
    "version": 3
   },
   "file_extension": ".py",
   "mimetype": "text/x-python",
   "name": "python",
   "nbconvert_exporter": "python",
   "pygments_lexer": "ipython3",
   "version": "3.7.2"
  }
 },
 "nbformat": 4,
 "nbformat_minor": 2
}
