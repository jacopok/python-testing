{
 "cells": [
  {
   "cell_type": "code",
   "execution_count": 2,
   "id": "eed6aec0",
   "metadata": {},
   "outputs": [],
   "source": [
    "import numpy as np\n",
    "import matplotlib.pyplot as plt\n",
    "#for entropy minimization on data\n",
    "from scipy.optimize import minimize\n",
    "from functools import partial, lru_cache\n",
    "from scipy.integrate import quad\n",
    "\n",
    "SMALL_SIZE = 8\n",
    "MEDIUM_SIZE = 10\n",
    "BIGGER_SIZE = 12\n",
    "\n",
    "plt.rc('font', size=SMALL_SIZE)          # controls default text sizes\n",
    "plt.rc('axes', titlesize=BIGGER_SIZE)     # fontsize of the axes title\n",
    "plt.rc('axes', labelsize=MEDIUM_SIZE)    # fontsize of the x and y labels\n",
    "plt.rc('xtick', labelsize=SMALL_SIZE)    # fontsize of the tick labels\n",
    "plt.rc('ytick', labelsize=SMALL_SIZE)    # fontsize of the tick labels\n",
    "plt.rc('legend', fontsize=SMALL_SIZE)    # legend fontsize\n",
    "plt.rc('figure', titlesize=BIGGER_SIZE)  # fontsize of the figure title"
   ]
  },
  {
   "cell_type": "code",
   "execution_count": 3,
   "id": "dad349d2",
   "metadata": {},
   "outputs": [
    {
     "data": {
      "image/png": "[encoded data removed]",
      "text/plain": [
       "<Figure size 432x288 with 1 Axes>"
      ]
     },
     "metadata": {
      "needs_background": "light"
     },
     "output_type": "display_data"
    }
   ],
   "source": [
    "s = np.genfromtxt(\"hermitian_spacings.txt\")\n",
    "s_diagonal = np.genfromtxt(\"diagonal_spacings.txt\")\n",
    "\n",
    "#create bins; max s = 11\n",
    "\n",
    "_ = plt.hist(s, density = True, bins=np.linspace(0, max(s),70))"
   ]
  },
  {
   "cell_type": "code",
   "execution_count": 4,
   "id": "4a96259b",
   "metadata": {},
   "outputs": [
    {
     "data": {
      "image/png": "[encoded data removed]",
      "text/plain": [
       "<Figure size 432x288 with 1 Axes>"
      ]
     },
     "metadata": {
      "needs_background": "light"
     },
     "output_type": "display_data"
    }
   ],
   "source": [
    "_ = plt.hist(s_diagonal, bins=np.linspace(0, max(s_diagonal),70))"
   ]
  },
  {
   "cell_type": "code",
   "execution_count": 39,
   "id": "a9c9aa6f",
   "metadata": {},
   "outputs": [
    {
     "name": "stdout",
     "output_type": "stream",
     "text": [
      "[7.36600481 4.13606817 0.72613525]\n",
      "entropy with current optimization = 0.629\n",
      "entropy for th params = 0.699\n",
      "(less entropy means a better fit)\n"
     ]
    }
   ],
   "source": [
    "#entropy minimization on data\n",
    "def log_wigner_function(x, b, alfa, beta):\n",
    "    return np.log(x)*alfa - b*x**beta\n",
    "\n",
    "def log_wigner_model(x, b, alfa, beta):\n",
    "    \"\"\"Model for the probability distribution.\"\"\"\n",
    "    return log_wigner_function(x, b, alfa, beta) - log_normalization(b, alfa, beta)\n",
    "\n",
    "# small optimization: cache the last-recently-used results\n",
    "# for the integral computation\n",
    "@lru_cache() \n",
    "def log_normalization(b, alfa, beta):\n",
    "    log_f = partial(log_wigner_function, b=b, alfa=alfa, beta=beta)\n",
    "    return np.log(quad(lambda x : np.exp(log_f(x)), 0, np.inf)[0]) # quad also returns the estimated error of integration\n",
    "\n",
    "def entropy(data, log_model):\n",
    "    return np.average(-log_model(data))\n",
    "\n",
    "def score(params):\n",
    "    \"\"\"Given the parameters of the distribution, \n",
    "    return the entropy computed on the data.\"\"\"\n",
    "    b, alfa, beta = params\n",
    "    model = partial(log_wigner_model, b = b, alfa = alfa, beta = beta)\n",
    "    return entropy(nums, model)\n",
    "\n",
    "\n",
    "#good form because it comes from a module, not necessary here \n",
    "#https://www.geeksforgeeks.org/what-does-the-if-__name__-__main__-do/\n",
    "if __name__ == \"__main__\":\n",
    "\n",
    "    #nums is data, x0 initial guess comes from theory \n",
    "    nums = s[s<4]\n",
    "    \n",
    "    \n",
    "    th_params = [4 / np.pi, 2, 2]\n",
    "    \n",
    "    result = minimize(score, x0=th_params, \n",
    "                      method='CG', \n",
    "                     )\n",
    "#     different solvers are found at https://docs.scipy.org/doc/scipy/reference/generated/scipy.optimize.minimize.html\n",
    "    \n",
    "\n",
    "    print(result.x)\n",
    "    print(f'entropy with current optimization = {result.fun:.3f}')\n",
    "    print(f'entropy for th params = {score(th_params):.3f}')\n",
    "    print(f'(less entropy means a better fit)')\n"
   ]
  },
  {
   "cell_type": "code",
   "execution_count": 36,
   "id": "fc3ffca2",
   "metadata": {},
   "outputs": [
    {
     "data": {
      "text/plain": [
       "<matplotlib.legend.Legend at 0x7f0c2ea55bd0>"
      ]
     },
     "execution_count": 36,
     "metadata": {},
     "output_type": "execute_result"
    },
    {
     "data": {
      "image/png": "[encoded data removed]",
      "text/plain": [
       "<Figure size 432x288 with 1 Axes>"
      ]
     },
     "metadata": {
      "needs_background": "light"
     },
     "output_type": "display_data"
    }
   ],
   "source": [
    "vals, bins, _ = plt.hist(s, density = True, bins=200)\n",
    "plt.plot(bins, np.exp(log_wigner_model(bins, *result.x)), label='estimated Wigner')\n",
    "plt.plot(bins, np.exp(log_wigner_model(bins, 4 / np.pi, 2, 2)), label='theoretical Wigner')\n",
    "plt.xlim(0, 4)\n",
    "\n",
    "plt.legend()"
   ]
  },
  {
   "cell_type": "code",
   "execution_count": 37,
   "id": "a9625827",
   "metadata": {},
   "outputs": [
    {
     "data": {
      "text/plain": [
       "0.3084251375340424"
      ]
     },
     "execution_count": 37,
     "metadata": {},
     "output_type": "execute_result"
    }
   ],
   "source": [
    "np.exp(log_normalization(4 / np.pi, 2,  2))"
   ]
  },
  {
   "cell_type": "code",
   "execution_count": 38,
   "id": "dcf15802",
   "metadata": {},
   "outputs": [
    {
     "data": {
      "text/plain": [
       "0.30842513753404244"
      ]
     },
     "execution_count": 38,
     "metadata": {},
     "output_type": "execute_result"
    }
   ],
   "source": [
    "1 / (32 / np.pi**2)\n",
    "# the theoretical parameters are internally consistent!"
   ]
  },
  {
   "cell_type": "code",
   "execution_count": null,
   "id": "214cceb8",
   "metadata": {},
   "outputs": [],
   "source": []
  }
 ],
 "metadata": {
  "kernelspec": {
   "display_name": "Python 3 (ipykernel)",
   "language": "python",
   "name": "python3"
  },
  "language_info": {
   "codemirror_mode": {
    "name": "ipython",
    "version": 3
   },
   "file_extension": ".py",
   "mimetype": "text/x-python",
   "name": "python",
   "nbconvert_exporter": "python",
   "pygments_lexer": "ipython3",
   "version": "3.7.12"
  }
 },
 "nbformat": 4,
 "nbformat_minor": 5
}
