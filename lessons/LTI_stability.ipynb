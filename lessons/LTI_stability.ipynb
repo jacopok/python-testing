{
 "metadata": {
  "language_info": {
   "codemirror_mode": {
    "name": "ipython",
    "version": 3
   },
   "file_extension": ".py",
   "mimetype": "text/x-python",
   "name": "python",
   "nbconvert_exporter": "python",
   "pygments_lexer": "ipython3",
   "version": "3.8.6-final"
  },
  "orig_nbformat": 2,
  "kernelspec": {
   "name": "python3",
   "display_name": "Python 3"
  }
 },
 "nbformat": 4,
 "nbformat_minor": 2,
 "cells": [
  {
   "cell_type": "code",
   "execution_count": 1,
   "metadata": {},
   "outputs": [],
   "source": [
    "from ipywidgets import interact\n",
    "\n",
    "def H(om, K):\n",
    "    s = om * 1j\n",
    "    G = 100 * (s + 4) / (s + 2) / (s + 10)\n",
    "    # G = 10 / (1 + s)**3\n",
    "    # return (K * G / (1 + K * G))\n",
    "    return (G)\n"
   ]
  },
  {
   "cell_type": "code",
   "execution_count": 14,
   "metadata": {},
   "outputs": [
    {
     "output_type": "display_data",
     "data": {
      "text/plain": "interactive(children=(FloatSlider(value=1.05, description='K', max=2.0, min=0.1, step=0.01), Output()), _dom_c…",
      "application/vnd.jupyter.widget-view+json": {
       "version_major": 2,
       "version_minor": 0,
       "model_id": "843ec0b7b5d0408999379f922a306db1"
      }
     },
     "metadata": {}
    },
    {
     "output_type": "execute_result",
     "data": {
      "text/plain": [
       "<function __main__.plot(K)>"
      ]
     },
     "metadata": {},
     "execution_count": 14
    }
   ],
   "source": [
    "omegas = np.logspace(-2, 3, num=500)\n",
    "\n",
    "def plot(K):\n",
    "    y = H(omegas, K)\n",
    "    y2 = H(-omegas, K)\n",
    "    plt.plot(y.real, y.imag)\n",
    "    plt.plot(y2.real, y2.imag)\n",
    "    plt.scatter(-1, 0)\n",
    "\n",
    "interact(plot, K = (.1, 2, .01))"
   ]
  },
  {
   "cell_type": "code",
   "execution_count": 15,
   "metadata": {},
   "outputs": [
    {
     "output_type": "display_data",
     "data": {
      "text/plain": "interactive(children=(FloatSlider(value=5.05, description='K', max=10.0, min=0.1, step=0.01), Output()), _dom_…",
      "application/vnd.jupyter.widget-view+json": {
       "version_major": 2,
       "version_minor": 0,
       "model_id": "9c6a4332096b4faaba7dc76ea19501b3"
      }
     },
     "metadata": {}
    },
    {
     "output_type": "execute_result",
     "data": {
      "text/plain": [
       "<function __main__.plot(K)>"
      ]
     },
     "metadata": {},
     "execution_count": 15
    }
   ],
   "source": [
    "# BODE GAIN\n",
    "def plot(K):\n",
    "    y = H(omegas, K)\n",
    "    plt.loglog(omegas, abs(y))\n",
    "    plt.grid()\n",
    "\n",
    "interact(plot, K = (.1, 10, .01))"
   ]
  },
  {
   "cell_type": "code",
   "execution_count": 16,
   "metadata": {},
   "outputs": [
    {
     "output_type": "display_data",
     "data": {
      "text/plain": "interactive(children=(FloatSlider(value=5.05, description='K', max=10.0, min=0.1, step=0.01), Output()), _dom_…",
      "application/vnd.jupyter.widget-view+json": {
       "version_major": 2,
       "version_minor": 0,
       "model_id": "6c2a8b25b450454c9552b5ec2646f6f8"
      }
     },
     "metadata": {}
    },
    {
     "output_type": "execute_result",
     "data": {
      "text/plain": [
       "<function __main__.plot(K)>"
      ]
     },
     "metadata": {},
     "execution_count": 16
    }
   ],
   "source": [
    "# BODE PHASE\n",
    "def plot(K):\n",
    "    y = H(omegas, K)\n",
    "    plt.semilogx(omegas, np.rad2deg(np.angle(y)))\n",
    "    plt.grid()\n",
    "\n",
    "interact(plot, K = (.1, 10, .01))"
   ]
  },
  {
   "cell_type": "code",
   "execution_count": 10,
   "metadata": {},
   "outputs": [
    {
     "output_type": "display_data",
     "data": {
      "text/plain": "interactive(children=(FloatSlider(value=0.0, description='K', max=10.0, min=-10.0), Output()), _dom_classes=('…",
      "application/vnd.jupyter.widget-view+json": {
       "version_major": 2,
       "version_minor": 0,
       "model_id": "d815527f25d74a8c93ca11e4e8bfe411"
      }
     },
     "metadata": {}
    },
    {
     "output_type": "execute_result",
     "data": {
      "text/plain": [
       "<function __main__.plot(K)>"
      ]
     },
     "metadata": {},
     "execution_count": 10
    }
   ],
   "source": [
    "s=np.linspace(-4, 4)\n",
    "def plot(K):\n",
    "    y = s**3 + 2 * s**2 + K*(100*s + 10)\n",
    "    plt.plot(s, y)\n",
    "    # plt.yscale('symlog')\n",
    "    plt.grid()\n",
    "\n",
    "interact(plot, K=(-10, 10, .1))"
   ]
  },
  {
   "cell_type": "code",
   "execution_count": null,
   "metadata": {},
   "outputs": [],
   "source": []
  }
 ]
}