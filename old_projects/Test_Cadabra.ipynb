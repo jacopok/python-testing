{
 "cells": [
  {
   "cell_type": "code",
   "execution_count": 1,
   "metadata": {},
   "outputs": [
    {
     "data": {
      "text/markdown": [
       "${}\\text{Attached property Coordinate to~}\\left[r,~ t,~ \\phi,~ \\theta\\right].$"
      ]
     },
     "execution_count": 1,
     "metadata": {},
     "output_type": "execute_result"
    },
    {
     "data": {
      "text/markdown": [
       "${}\\text{Attached property Indices(position=fixed) to~}\\left[\\mu,~ \\nu,~ \\rho,~ \\sigma,~ \\lambda,~ \\kappa,~ \\chi,~ \\gamma\\right].$"
      ]
     },
     "execution_count": 1,
     "metadata": {},
     "output_type": "execute_result"
    },
    {
     "data": {
      "text/markdown": [
       "${}\\text{Attached property PartialDerivative to~}\\partial{\\#}.$"
      ]
     },
     "execution_count": 1,
     "metadata": {},
     "output_type": "execute_result"
    }
   ],
   "source": [
    "{r,t,\\phi,\\theta}::Coordinate;\n",
    "{\\mu,\\nu,\\rho,\\sigma,\\lambda,\\kappa,\\chi,\\gamma}::Indices(values={t,r,\\phi,\\theta}, position=fixed);\n",
    "\\partial{#}::PartialDerivative;\n",
    "g_{\\mu\\nu}::Metric.\n",
    "g^{\\mu\\nu}::InverseMetric."
   ]
  },
  {
   "cell_type": "code",
   "execution_count": 2,
   "metadata": {},
   "outputs": [
    {
     "data": {
      "text/markdown": [
       "${}\\left[g_{t t} = -1+2M {r}^{-1},~ g_{r r} = {\\left(1-2M {r}^{-1}\\right)}^{-1},~ g_{\\theta \\theta} = {r}^{2},~ g_{\\phi \\phi} = {r}^{2} {\\left(\\sin{\\theta}\\right)}^{2},~ g^{t t} = {\\left(2M {r}^{-1}-1\\right)}^{-1},~ g^{r r} = -2M {r}^{-1}+1,~ g^{\\phi \\phi} = {\\left({r}^{2} {\\left(\\sin{\\theta}\\right)}^{2}\\right)}^{-1},~ g^{\\theta \\theta} = {r}^{-2}\\right]$"
      ]
     },
     "execution_count": 2,
     "metadata": {},
     "output_type": "execute_result"
    }
   ],
   "source": [
    "ss:= { g_{t t} = -(1-2 M/r),   \n",
    "       g_{r r} = 1/(1-2 M/r), \n",
    "       g_{\\theta\\theta} = r**2, \n",
    "       g_{\\phi\\phi}=r**2 \\sin(\\theta)**2\n",
    "     }.\n",
    "\n",
    "complete(ss, $g^{\\mu\\nu}$);"
   ]
  },
  {
   "cell_type": "code",
   "execution_count": 3,
   "metadata": {},
   "outputs": [
    {
     "data": {
      "text/markdown": [
       "${}\\Gamma^{\\mu}\\,_{\\nu \\rho} = \\frac{1}{2}g^{\\mu \\sigma} \\left(\\partial_{\\rho}{g_{\\nu \\sigma}}+\\partial_{\\nu}{g_{\\rho \\sigma}}-\\partial_{\\sigma}{g_{\\nu \\rho}}\\right)$"
      ]
     },
     "execution_count": 3,
     "metadata": {},
     "output_type": "execute_result"
    },
    {
     "data": {
      "text/markdown": [
       "${}\\Gamma^{\\mu}\\,_{\\nu \\rho} = \\square{}_{\\nu}{}_{\\rho}{}^{\\mu}\\left\\{\\begin{aligned}\\square{}_{\\phi}{}_{r}{}^{\\phi}& = {r}^{-1}\\\\[-.5ex]\n",
       "\\square{}_{\\phi}{}_{\\theta}{}^{\\phi}& = {\\left(\\tan{\\theta}\\right)}^{-1}\\\\[-.5ex]\n",
       "\\square{}_{\\theta}{}_{r}{}^{\\theta}& = {r}^{-1}\\\\[-.5ex]\n",
       "\\square{}_{r}{}_{r}{}^{r}& = M {\\left(r \\left(2M-r\\right)\\right)}^{-1}\\\\[-.5ex]\n",
       "\\square{}_{t}{}_{r}{}^{t}& = M {\\left(r \\left(-2M+r\\right)\\right)}^{-1}\\\\[-.5ex]\n",
       "\\square{}_{r}{}_{\\phi}{}^{\\phi}& = {r}^{-1}\\\\[-.5ex]\n",
       "\\square{}_{\\theta}{}_{\\phi}{}^{\\phi}& = {\\left(\\tan{\\theta}\\right)}^{-1}\\\\[-.5ex]\n",
       "\\square{}_{r}{}_{\\theta}{}^{\\theta}& = {r}^{-1}\\\\[-.5ex]\n",
       "\\square{}_{r}{}_{t}{}^{t}& = M {\\left(r \\left(-2M+r\\right)\\right)}^{-1}\\\\[-.5ex]\n",
       "\\square{}_{\\phi}{}_{\\phi}{}^{r}& = \\left(2M-r\\right) {\\left(\\sin{\\theta}\\right)}^{2}\\\\[-.5ex]\n",
       "\\square{}_{\\phi}{}_{\\phi}{}^{\\theta}& =  - \\frac{1}{2}\\sin\\left(2\\theta\\right)\\\\[-.5ex]\n",
       "\\square{}_{\\theta}{}_{\\theta}{}^{r}& = 2M-r\\\\[-.5ex]\n",
       "\\square{}_{t}{}_{t}{}^{r}& = M \\left(-2M+r\\right) {r}^{-3}\\\\[-.5ex]\n",
       "\\end{aligned}\\right.\n",
       "$"
      ]
     },
     "execution_count": 3,
     "metadata": {},
     "output_type": "execute_result"
    }
   ],
   "source": [
    "ch:= \\Gamma^{\\mu}_{\\nu\\rho} = 1/2 g^{\\mu\\sigma} ( \n",
    "                                   \\partial_{\\rho}{g_{\\nu\\sigma}} \n",
    "                                  +\\partial_{\\nu}{g_{\\rho\\sigma}}\n",
    "                                  -\\partial_{\\sigma}{g_{\\nu\\rho}} ):\n",
    "                          \n",
    "evaluate(ch, ss, rhsonly=True);"
   ]
  },
  {
   "cell_type": "code",
   "execution_count": 4,
   "metadata": {},
   "outputs": [
    {
     "data": {
      "text/markdown": [
       "${}R^{\\rho}\\,_{\\sigma \\mu \\nu} = \\partial_{\\mu}{\\Gamma^{\\rho}\\,_{\\nu \\sigma}}-\\partial_{\\nu}{\\Gamma^{\\rho}\\,_{\\mu \\sigma}}+\\Gamma^{\\rho}\\,_{\\mu \\lambda} \\Gamma^{\\lambda}\\,_{\\nu \\sigma}-\\Gamma^{\\rho}\\,_{\\nu \\lambda} \\Gamma^{\\lambda}\\,_{\\mu \\sigma}$"
      ]
     },
     "execution_count": 4,
     "metadata": {},
     "output_type": "execute_result"
    }
   ],
   "source": [
    "rm:= R^{\\rho}_{\\sigma\\mu\\nu} = \\partial_{\\mu}{\\Gamma^{\\rho}_{\\nu\\sigma}}\n",
    "                                  -\\partial_{\\nu}{\\Gamma^{\\rho}_{\\mu\\sigma}}\n",
    "                                  +\\Gamma^{\\rho}_{\\mu\\lambda} \\Gamma^{\\lambda}_{\\nu\\sigma}\n",
    "                                  -\\Gamma^{\\rho}_{\\nu\\lambda} \\Gamma^{\\lambda}_{\\mu\\sigma};\n"
   ]
  },
  {
   "cell_type": "code",
   "execution_count": 6,
   "metadata": {},
   "outputs": [
    {
     "data": {
      "text/markdown": [
       "${}R^{\\rho}\\,_{\\sigma \\mu \\nu} = \\square{}_{\\nu}{}_{\\sigma}{}^{\\rho}{}_{\\mu}\\left\\{\\begin{aligned}\\square{}_{t}{}_{t}{}^{r}{}_{r}& = 2M \\left(2M-r\\right) {r}^{-4}\\\\[-.5ex]\n",
       "\\square{}_{\\theta}{}_{\\theta}{}^{r}{}_{r}& = -M {r}^{-1}\\\\[-.5ex]\n",
       "\\square{}_{\\phi}{}_{\\phi}{}^{\\theta}{}_{\\theta}& = 2M {\\left(\\sin{\\theta}\\right)}^{2} {r}^{-1}\\\\[-.5ex]\n",
       "\\square{}_{\\phi}{}_{\\phi}{}^{r}{}_{r}& = -M {\\left(\\sin{\\theta}\\right)}^{2} {r}^{-1}\\\\[-.5ex]\n",
       "\\square{}_{t}{}_{r}{}^{t}{}_{r}& = 2M {\\left({r}^{2} \\left(2M-r\\right)\\right)}^{-1}\\\\[-.5ex]\n",
       "\\square{}_{\\phi}{}_{\\theta}{}^{\\phi}{}_{\\theta}& = -2M {r}^{-1}\\\\[-.5ex]\n",
       "\\square{}_{r}{}_{t}{}^{r}{}_{t}& = 2M \\left(-2M+r\\right) {r}^{-4}\\\\[-.5ex]\n",
       "\\square{}_{r}{}_{\\theta}{}^{r}{}_{\\theta}& = M {r}^{-1}\\\\[-.5ex]\n",
       "\\square{}_{\\theta}{}_{\\phi}{}^{\\theta}{}_{\\phi}& = -2M {\\left(\\sin{\\theta}\\right)}^{2} {r}^{-1}\\\\[-.5ex]\n",
       "\\square{}_{r}{}_{\\phi}{}^{r}{}_{\\phi}& = M {\\left(\\sin{\\theta}\\right)}^{2} {r}^{-1}\\\\[-.5ex]\n",
       "\\square{}_{r}{}_{r}{}^{t}{}_{t}& = 2M {\\left({r}^{2} \\left(-2M+r\\right)\\right)}^{-1}\\\\[-.5ex]\n",
       "\\square{}_{r}{}_{r}{}^{\\theta}{}_{\\theta}& = M {\\left({r}^{2} \\left(2M-r\\right)\\right)}^{-1}\\\\[-.5ex]\n",
       "\\square{}_{\\theta}{}_{\\theta}{}^{\\phi}{}_{\\phi}& = 2M {r}^{-1}\\\\[-.5ex]\n",
       "\\square{}_{r}{}_{r}{}^{\\phi}{}_{\\phi}& = M {\\left({r}^{2} \\left(2M-r\\right)\\right)}^{-1}\\\\[-.5ex]\n",
       "\\square{}_{t}{}_{t}{}^{\\phi}{}_{\\phi}& = M \\left(-2M+r\\right) {r}^{-4}\\\\[-.5ex]\n",
       "\\square{}_{t}{}_{t}{}^{\\theta}{}_{\\theta}& = M \\left(-2M+r\\right) {r}^{-4}\\\\[-.5ex]\n",
       "\\square{}_{\\phi}{}_{\\phi}{}^{t}{}_{t}& = -M {\\left(\\sin{\\theta}\\right)}^{2} {r}^{-1}\\\\[-.5ex]\n",
       "\\square{}_{\\theta}{}_{\\theta}{}^{t}{}_{t}& = -M {r}^{-1}\\\\[-.5ex]\n",
       "\\square{}_{\\phi}{}_{r}{}^{\\phi}{}_{r}& = M {\\left({r}^{2} \\left(-2M+r\\right)\\right)}^{-1}\\\\[-.5ex]\n",
       "\\square{}_{\\phi}{}_{t}{}^{\\phi}{}_{t}& = M \\left(2M-r\\right) {r}^{-4}\\\\[-.5ex]\n",
       "\\square{}_{\\theta}{}_{r}{}^{\\theta}{}_{r}& = M {\\left({r}^{2} \\left(-2M+r\\right)\\right)}^{-1}\\\\[-.5ex]\n",
       "\\square{}_{\\theta}{}_{t}{}^{\\theta}{}_{t}& = M \\left(2M-r\\right) {r}^{-4}\\\\[-.5ex]\n",
       "\\square{}_{t}{}_{\\phi}{}^{t}{}_{\\phi}& = M {\\left(\\sin{\\theta}\\right)}^{2} {r}^{-1}\\\\[-.5ex]\n",
       "\\square{}_{t}{}_{\\theta}{}^{t}{}_{\\theta}& = M {r}^{-1}\\\\[-.5ex]\n",
       "\\end{aligned}\\right.\n",
       "$"
      ]
     },
     "execution_count": 5,
     "metadata": {},
     "output_type": "execute_result"
    },
    {
     "data": {
      "text/markdown": [
       "${}R^{\\rho}\\,_{\\sigma \\mu \\nu} = \\square{}_{\\nu}{}_{\\sigma}{}^{\\rho}{}_{\\mu}\\left\\{\\begin{aligned}\\square{}_{t}{}_{t}{}^{r}{}_{r}& = 2M \\left(2M-r\\right) {r}^{-4}\\\\[-.5ex]\n",
       "\\square{}_{\\theta}{}_{\\theta}{}^{r}{}_{r}& = -M {r}^{-1}\\\\[-.5ex]\n",
       "\\square{}_{\\phi}{}_{\\phi}{}^{\\theta}{}_{\\theta}& = 2M {\\left(\\sin{\\theta}\\right)}^{2} {r}^{-1}\\\\[-.5ex]\n",
       "\\square{}_{\\phi}{}_{\\phi}{}^{r}{}_{r}& = -M {\\left(\\sin{\\theta}\\right)}^{2} {r}^{-1}\\\\[-.5ex]\n",
       "\\square{}_{t}{}_{r}{}^{t}{}_{r}& = 2M {\\left({r}^{2} \\left(2M-r\\right)\\right)}^{-1}\\\\[-.5ex]\n",
       "\\square{}_{\\phi}{}_{\\theta}{}^{\\phi}{}_{\\theta}& = -2M {r}^{-1}\\\\[-.5ex]\n",
       "\\square{}_{r}{}_{t}{}^{r}{}_{t}& = 2M \\left(-2M+r\\right) {r}^{-4}\\\\[-.5ex]\n",
       "\\square{}_{r}{}_{\\theta}{}^{r}{}_{\\theta}& = M {r}^{-1}\\\\[-.5ex]\n",
       "\\square{}_{\\theta}{}_{\\phi}{}^{\\theta}{}_{\\phi}& = -2M {\\left(\\sin{\\theta}\\right)}^{2} {r}^{-1}\\\\[-.5ex]\n",
       "\\square{}_{r}{}_{\\phi}{}^{r}{}_{\\phi}& = M {\\left(\\sin{\\theta}\\right)}^{2} {r}^{-1}\\\\[-.5ex]\n",
       "\\square{}_{r}{}_{r}{}^{t}{}_{t}& = 2M {\\left({r}^{2} \\left(-2M+r\\right)\\right)}^{-1}\\\\[-.5ex]\n",
       "\\square{}_{r}{}_{r}{}^{\\theta}{}_{\\theta}& = M {\\left({r}^{2} \\left(2M-r\\right)\\right)}^{-1}\\\\[-.5ex]\n",
       "\\square{}_{\\theta}{}_{\\theta}{}^{\\phi}{}_{\\phi}& = 2M {r}^{-1}\\\\[-.5ex]\n",
       "\\square{}_{r}{}_{r}{}^{\\phi}{}_{\\phi}& = M {\\left({r}^{2} \\left(2M-r\\right)\\right)}^{-1}\\\\[-.5ex]\n",
       "\\square{}_{t}{}_{t}{}^{\\phi}{}_{\\phi}& = M \\left(-2M+r\\right) {r}^{-4}\\\\[-.5ex]\n",
       "\\square{}_{t}{}_{t}{}^{\\theta}{}_{\\theta}& = M \\left(-2M+r\\right) {r}^{-4}\\\\[-.5ex]\n",
       "\\square{}_{\\phi}{}_{\\phi}{}^{t}{}_{t}& = -M {\\left(\\sin{\\theta}\\right)}^{2} {r}^{-1}\\\\[-.5ex]\n",
       "\\square{}_{\\theta}{}_{\\theta}{}^{t}{}_{t}& = -M {r}^{-1}\\\\[-.5ex]\n",
       "\\square{}_{\\phi}{}_{r}{}^{\\phi}{}_{r}& = M {\\left({r}^{2} \\left(-2M+r\\right)\\right)}^{-1}\\\\[-.5ex]\n",
       "\\square{}_{\\phi}{}_{t}{}^{\\phi}{}_{t}& = M \\left(2M-r\\right) {r}^{-4}\\\\[-.5ex]\n",
       "\\square{}_{\\theta}{}_{r}{}^{\\theta}{}_{r}& = M {\\left({r}^{2} \\left(-2M+r\\right)\\right)}^{-1}\\\\[-.5ex]\n",
       "\\square{}_{\\theta}{}_{t}{}^{\\theta}{}_{t}& = M \\left(2M-r\\right) {r}^{-4}\\\\[-.5ex]\n",
       "\\square{}_{t}{}_{\\phi}{}^{t}{}_{\\phi}& = M {\\left(\\sin{\\theta}\\right)}^{2} {r}^{-1}\\\\[-.5ex]\n",
       "\\square{}_{t}{}_{\\theta}{}^{t}{}_{\\theta}& = M {r}^{-1}\\\\[-.5ex]\n",
       "\\end{aligned}\\right.\n",
       "$"
      ]
     },
     "execution_count": 6,
     "metadata": {},
     "output_type": "execute_result"
    }
   ],
   "source": [
    "substitute(rm, ch)\n",
    "evaluate(rm, ss, rhsonly=True);\n"
   ]
  },
  {
   "cell_type": "code",
   "execution_count": 7,
   "metadata": {},
   "outputs": [
    {
     "data": {
      "text/markdown": [
       "${}R_{\\sigma \\nu} = R^{\\rho}\\,_{\\sigma \\rho \\nu}$"
      ]
     },
     "execution_count": 7,
     "metadata": {},
     "output_type": "execute_result"
    },
    {
     "data": {
      "text/markdown": [
       "${}R_{\\sigma \\nu} = 0$"
      ]
     },
     "execution_count": 7,
     "metadata": {},
     "output_type": "execute_result"
    }
   ],
   "source": [
    "rc:= R_{\\sigma\\nu} = R^{\\rho}_{\\sigma\\rho\\nu};\n",
    "substitute(rc, rm)\n",
    "evaluate(rc, ss, rhsonly=True);\n"
   ]
  },
  {
   "cell_type": "code",
   "execution_count": null,
   "metadata": {},
   "outputs": [],
   "source": []
  }
 ],
 "metadata": {
  "kernelspec": {
   "display_name": "Cadabra",
   "language": "python",
   "name": "cadabra"
  },
  "language_info": {
   "file_extension": ".cdb",
   "mimetype": "text/cadabra",
   "name": "cadabra",
   "version": "2.0.0"
  }
 },
 "nbformat": 4,
 "nbformat_minor": 4
}