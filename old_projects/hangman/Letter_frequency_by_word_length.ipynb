{
 "cells": [
  {
   "cell_type": "code",
   "execution_count": 11,
   "metadata": {},
   "outputs": [],
   "source": [
    "import ipywidgets as ipw\n",
    "import matplotlib.pyplot as plt"
   ]
  },
  {
   "cell_type": "code",
   "execution_count": 17,
   "metadata": {},
   "outputs": [],
   "source": [
    "from collections import defaultdict, Counter, OrderedDict\n",
    "\n",
    "words_by_length = defaultdict(list)\n",
    "\n",
    "with open('copy.txt') as file:\n",
    "  for line in file:\n",
    "    word = line.split('/')[0].replace('\\n', '')\n",
    "    words_by_length[len(word)].append(word)\n",
    "\n",
    "distribution = defaultdict(Counter)\n",
    "# alphabet = 'abcdefghijklmnopqrstuvwxyz'\n",
    "alphabet = 'aeiou'\n",
    "\n",
    "for length, words in words_by_length.items():\n",
    "  for word in words:\n",
    "    for char in word:\n",
    "      if char in alphabet: \n",
    "        distribution[length][char.lower()] += 1\n",
    "      \n",
    "for length in distribution:\n",
    "  distribution[length] = OrderedDict(sorted(distribution[length].items()))\n",
    "\n"
   ]
  },
  {
   "cell_type": "code",
   "execution_count": 18,
   "metadata": {},
   "outputs": [
    {
     "data": {
      "application/vnd.jupyter.widget-view+json": {
       "model_id": "746193f57829420fbd8bc9bf6dc6ea11",
       "version_major": 2,
       "version_minor": 0
      },
      "text/plain": [
       "interactive(children=(IntSlider(value=13, description='n', max=26, min=1), Output()), _dom_classes=('widget-in…"
      ]
     },
     "metadata": {},
     "output_type": "display_data"
    },
    {
     "data": {
      "text/plain": [
       "<function __main__.p(n)>"
      ]
     },
     "execution_count": 18,
     "metadata": {},
     "output_type": "execute_result"
    }
   ],
   "source": [
    "def p(n):\n",
    "    this_dist = distribution[n]\n",
    "    letters = this_dist.keys()\n",
    "    occurrences = this_dist.values()\n",
    "    total_occurrences = sum(occurrences)\n",
    "    frequencies = []\n",
    "    for o in occurrences:\n",
    "        frequencies.append(o / total_occurrences)\n",
    "    \n",
    "    plt.bar(letters, frequencies)\n",
    "\n",
    "ipw.interact(p, n=(1, 26, 1))"
   ]
  },
  {
   "cell_type": "code",
   "execution_count": null,
   "metadata": {},
   "outputs": [],
   "source": []
  }
 ],
 "metadata": {
  "kernelspec": {
   "display_name": "Python 3",
   "language": "python",
   "name": "python3"
  },
  "language_info": {
   "codemirror_mode": {
    "name": "ipython",
    "version": 3
   },
   "file_extension": ".py",
   "mimetype": "text/x-python",
   "name": "python",
   "nbconvert_exporter": "python",
   "pygments_lexer": "ipython3",
   "version": "3.7.6"
  }
 },
 "nbformat": 4,
 "nbformat_minor": 4
}
