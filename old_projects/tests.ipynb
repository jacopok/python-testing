{
 "metadata": {
  "language_info": {
   "codemirror_mode": {
    "name": "ipython",
    "version": 3
   },
   "file_extension": ".py",
   "mimetype": "text/x-python",
   "name": "python",
   "nbconvert_exporter": "python",
   "pygments_lexer": "ipython3",
   "version": "3.8.6-final"
  },
  "orig_nbformat": 2,
  "kernelspec": {
   "name": "python3",
   "display_name": "Python 3"
  }
 },
 "nbformat": 4,
 "nbformat_minor": 2,
 "cells": [
  {
   "cell_type": "code",
   "execution_count": 15,
   "metadata": {},
   "outputs": [
    {
     "output_type": "stream",
     "name": "stdout",
     "text": [
      "log_BF_negative_test=-0.4\nlog_BF_positive_test=1.3\nBF_negative_test=0.4\nBF_positive_test=19.0\nsensitivity=0.7\nspecificity=0.95\n"
     ]
    }
   ],
   "source": [
    "false_positive_rate = .05\n",
    "false_negative_rate = .3\n",
    "\n",
    "sensitivity = 1 - false_negative_rate\n",
    "specificity = 1 - false_positive_rate\n",
    "\n",
    "log_BF_positive_test = np.log10((1-false_positive_rate) / false_positive_rate)\n",
    "log_BF_negative_test = np.log10(false_negative_rate / (1 - false_negative_rate))\n",
    "BF_positive_test = 10**log_BF_positive_test\n",
    "BF_negative_test = 10**log_BF_negative_test\n",
    "\n",
    "print(f'{log_BF_negative_test=:.1f}')\n",
    "print(f'{log_BF_positive_test=:.1f}')\n",
    "print(f'{BF_negative_test=:.1f}')\n",
    "print(f'{BF_positive_test=:.1f}')\n",
    "\n",
    "print(f'{sensitivity=}')\n",
    "print(f'{specificity=}')"
   ]
  },
  {
   "cell_type": "code",
   "execution_count": null,
   "metadata": {},
   "outputs": [],
   "source": []
  }
 ]
}