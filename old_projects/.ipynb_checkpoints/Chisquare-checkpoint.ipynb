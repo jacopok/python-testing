{
 "cells": [
  {
   "cell_type": "code",
   "execution_count": 1,
   "metadata": {},
   "outputs": [
    {
     "name": "stdout",
     "output_type": "stream",
     "text": [
      "[13.81280756 10.47574747  6.05025733  4.97434235  5.13780916  5.17201233\n",
      "  5.11791039  5.18055701]\n"
     ]
    }
   ],
   "source": [
    "import numpy as np\n",
    "from scipy.stats import chi2\n",
    "import matplotlib.pyplot as plt\n",
    "from scipy.integrate import quad\n",
    "\n",
    "from functools import wraps\n",
    "from time import time\n",
    "\n",
    "x = np.linspace(0, 4, num=1000)\n",
    "\n",
    "def plot_stuff(n):    \n",
    "    red_chi2 = lambda x : n*chi2(n).pdf(x*n)\n",
    "#     plt.plot(x, red_chi2(x), label=str(n))\n",
    "    for j in range(10):\n",
    "        quad(red_chi2, a=0, b=4)\n",
    "\n",
    "from multiprocessing import Pool\n",
    "\n",
    "numbers = np.arange(1, 20)\n",
    "\n",
    "times = []\n",
    "times.append(time())\n",
    "for i in range(1, 8):\n",
    "    pool = Pool(i)\n",
    "    pool.map(plot_stuff, numbers)\n",
    "    times.append(time())\n",
    "    \n",
    "# plt.show()\n",
    "\n",
    "print(np.gradient(times))"
   ]
  },
  {
   "cell_type": "code",
   "execution_count": null,
   "metadata": {},
   "outputs": [],
   "source": []
  }
 ],
 "metadata": {
  "kernelspec": {
   "display_name": "Python 3",
   "language": "python",
   "name": "python3"
  },
  "language_info": {
   "codemirror_mode": {
    "name": "ipython",
    "version": 3
   },
   "file_extension": ".py",
   "mimetype": "text/x-python",
   "name": "python",
   "nbconvert_exporter": "python",
   "pygments_lexer": "ipython3",
   "version": "3.7.5"
  }
 },
 "nbformat": 4,
 "nbformat_minor": 2
}
