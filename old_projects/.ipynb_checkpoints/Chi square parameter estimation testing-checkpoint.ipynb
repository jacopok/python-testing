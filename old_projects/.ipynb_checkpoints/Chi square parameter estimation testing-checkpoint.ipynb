{
 "cells": [
  {
   "cell_type": "code",
   "execution_count": 19,
   "metadata": {},
   "outputs": [],
   "source": [
    "import numpy as np\n",
    "import matplotlib.pyplot as plt\n",
    "import scipy.optimize"
   ]
  },
  {
   "cell_type": "markdown",
   "metadata": {},
   "source": [
    "We generate data in the form \n",
    "\n",
    "$$\n",
    "y = f(x) + \\varepsilon\n",
    "$$\n",
    "\n",
    "where: \\texttt{y_noise} = $\\varepsilon \\sim \\mathcal{N}(\\mu = 0, \\sigma)$, with a fixed value for $\\sigma$.\n",
    "Also, we take $f(x)$ to be $f(x; a, b) = ax + b$."
   ]
  },
  {
   "cell_type": "code",
   "execution_count": 27,
   "metadata": {},
   "outputs": [],
   "source": [
    "N = 20\n",
    "sigma = 1\n",
    "x = np.linspace(0, 100, num = N)\n",
    "\n",
    "np.random.seed(2019)\n",
    "y_noise = np.random.normal(scale=sigma, size=N)\n",
    "error_deviation_array = sigma * np.ones(N)\n",
    "\n",
    "def f(x, a, b):\n",
    "    return(a*x + b)\n",
    "\n",
    "a = 0.5\n",
    "b = - 10\n",
    "\n",
    "y = f(x, a, b) + y_noise"
   ]
  },
  {
   "cell_type": "markdown",
   "metadata": {},
   "source": [
    "We fit the data to the model, and estimate the parameters"
   ]
  },
  {
   "cell_type": "code",
   "execution_count": 28,
   "metadata": {},
   "outputs": [],
   "source": [
    "popt, pcov = scipy.optimize.curve_fit(f, x, y, absolute_sigma=True)\n",
    "\n",
    "popt_errors = np.sqrt(np.diagonal(pcov))\n",
    "\n",
    "y_predictions = f(x, *popt)\n",
    "square_deviations = ((y - y_predictions)/error_deviation_array)**2\n",
    "\n",
    "chisquare = np.sum(square_deviations)"
   ]
  },
  {
   "cell_type": "code",
   "execution_count": null,
   "metadata": {},
   "outputs": [],
   "source": []
  }
 ],
 "metadata": {
  "kernelspec": {
   "display_name": "Python 3",
   "language": "python",
   "name": "python3"
  },
  "language_info": {
   "codemirror_mode": {
    "name": "ipython",
    "version": 3
   },
   "file_extension": ".py",
   "mimetype": "text/x-python",
   "name": "python",
   "nbconvert_exporter": "python",
   "pygments_lexer": "ipython3",
   "version": "3.7.2"
  }
 },
 "nbformat": 4,
 "nbformat_minor": 2
}
