{
 "cells": [
  {
   "cell_type": "code",
   "execution_count": 1,
   "metadata": {},
   "outputs": [],
   "source": [
    "import numpy as np\n",
    "from numpy.random import random"
   ]
  },
  {
   "cell_type": "code",
   "execution_count": 2,
   "metadata": {},
   "outputs": [],
   "source": [
    "# positions go from 0 to 1\n",
    "\n",
    "def throw_balls(pos, N_balls):\n",
    "    ball_positions = sorted(random(size=N_balls))\n",
    "    i = np.searchsorted(ball_positions, pos)\n",
    "    return(i, N_balls-i)"
   ]
  },
  {
   "cell_type": "code",
   "execution_count": 3,
   "metadata": {},
   "outputs": [],
   "source": [
    "def estimate(N_left, N_right, statistics):\n",
    "    if(statistics == 'bayes'):\n",
    "        return((N_left+1)/(N_left+N_right+2))\n",
    "    elif(statistics == 'frequentist'):\n",
    "        return(N_left/(N_left+N_right))"
   ]
  },
  {
   "cell_type": "code",
   "execution_count": 4,
   "metadata": {},
   "outputs": [],
   "source": [
    "def trial(N_tests, N_balls):\n",
    "    eb = []\n",
    "    ef = []\n",
    "    for _ in range(N_tests):\n",
    "        position = random()\n",
    "        N_left, N_right = throw_balls(position, N_balls)\n",
    "        bayes = estimate(N_left, N_right, 'bayes')        \n",
    "        frequentist = estimate(N_left, N_right, 'frequentist')\n",
    "        eb.append(bayes - position)\n",
    "        ef.append(frequentist - position)\n",
    "    return(eb, ef)"
   ]
  },
  {
   "cell_type": "code",
   "execution_count": 14,
   "metadata": {},
   "outputs": [],
   "source": [
    "b, f = trial(10000, 200)"
   ]
  },
  {
   "cell_type": "code",
   "execution_count": 15,
   "metadata": {},
   "outputs": [
    {
     "data": {
      "text/plain": [
       "Text(0, 0.5, 'Probability density')"
      ]
     },
     "execution_count": 15,
     "metadata": {},
     "output_type": "execute_result"
    },
    {
     "data": {
      "image/png": "[encoded data removed]",
      "text/plain": [
       "<Figure size 576x432 with 1 Axes>"
      ]
     },
     "metadata": {},
     "output_type": "display_data"
    }
   ],
   "source": [
    "for x, name in ((b, 'bayes'), (f, 'frequentist')):\n",
    "    plt.hist(np.abs(x), alpha = .5, label=name, density=True)\n",
    "plt.legend()\n",
    "plt.xlabel('Magnitude of error')\n",
    "plt.ylabel('Probability density')"
   ]
  },
  {
   "cell_type": "code",
   "execution_count": null,
   "metadata": {},
   "outputs": [],
   "source": []
  }
 ],
 "metadata": {
  "kernelspec": {
   "display_name": "Python 3",
   "language": "python",
   "name": "python3"
  },
  "language_info": {
   "codemirror_mode": {
    "name": "ipython",
    "version": 3
   },
   "file_extension": ".py",
   "mimetype": "text/x-python",
   "name": "python",
   "nbconvert_exporter": "python",
   "pygments_lexer": "ipython3",
   "version": "3.7.6"
  }
 },
 "nbformat": 4,
 "nbformat_minor": 4
}
