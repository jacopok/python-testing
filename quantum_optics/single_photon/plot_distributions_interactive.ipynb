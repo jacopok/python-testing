{
 "cells": [
  {
   "cell_type": "code",
   "execution_count": 1,
   "metadata": {},
   "outputs": [
    {
     "data": {
      "text/plain": [
       "'3.7.6 (default, Jan  8 2020, 19:59:22) \\n[GCC 7.3.0]'"
      ]
     },
     "execution_count": 1,
     "metadata": {},
     "output_type": "execute_result"
    }
   ],
   "source": [
    "import sys\n",
    "sys.version"
   ]
  },
  {
   "cell_type": "code",
   "execution_count": 1,
   "metadata": {
    "scrolled": true
   },
   "outputs": [
    {
     "ename": "SyntaxError",
     "evalue": "invalid syntax (<fstring>, line 1)",
     "output_type": "error",
     "traceback": [
      "Traceback \u001b[1;36m(most recent call last)\u001b[0m:\n",
      "  File \u001b[0;32m\"/home/jacopo/anaconda3/lib/python3.7/site-packages/IPython/core/interactiveshell.py\"\u001b[0m, line \u001b[0;32m3331\u001b[0m, in \u001b[0;35mrun_code\u001b[0m\n    exec(code_obj, self.user_global_ns, self.user_ns)\n",
      "\u001b[1;36m  File \u001b[1;32m\"<ipython-input-1-b11126f56c34>\"\u001b[1;36m, line \u001b[1;32m1\u001b[1;36m, in \u001b[1;35m<module>\u001b[1;36m\u001b[0m\n\u001b[1;33m    from bayesian_hyp_testing import plot_both_distributions\u001b[0m\n",
      "\u001b[1;36m  File \u001b[1;32m\"<fstring>\"\u001b[1;36m, line \u001b[1;32m1\u001b[0m\n\u001b[1;33m    (sample_size=)\u001b[0m\n\u001b[1;37m                ^\u001b[0m\n\u001b[1;31mSyntaxError\u001b[0m\u001b[1;31m:\u001b[0m invalid syntax\n"
     ]
    }
   ],
   "source": [
    "from bayesian_hyp_testing import plot_both_distributions\n",
    "from ipywidgets import interact, FloatLogSlider"
   ]
  },
  {
   "cell_type": "code",
   "execution_count": 2,
   "metadata": {
    "scrolled": false
   },
   "outputs": [
    {
     "data": {
      "application/vnd.jupyter.widget-view+json": {
       "model_id": "02426e9fb3914583a6090253fce33a7d",
       "version_major": 2,
       "version_minor": 0
      },
      "text/plain": [
       "interactive(children=(FloatLogSlider(value=100.0, continuous_update=False, description='Size', max=6.0, min=1.…"
      ]
     },
     "metadata": {},
     "output_type": "display_data"
    },
    {
     "data": {
      "text/plain": [
       "<function __main__.f(size, rate, e_rate)>"
      ]
     },
     "execution_count": 2,
     "metadata": {},
     "output_type": "execute_result"
    }
   ],
   "source": [
    "def f(size, rate, e_rate):\n",
    "    plot_both_distributions(int(size), rate, e_rate)\n",
    "\n",
    "size_slider = FloatLogSlider(\n",
    "    value=100,\n",
    "    base=10,\n",
    "    min=1, # max exponent of base\n",
    "    max=6, # min exponent of base\n",
    "    step=0.05, # exponent step\n",
    "    continuous_update=False,\n",
    "    description='Size'\n",
    ")\n",
    "\n",
    "rate_slider = FloatLogSlider(\n",
    "    value=.1,\n",
    "    base=10,\n",
    "    min=-4, # max exponent of base\n",
    "    max=0, # min exponent of base\n",
    "    step=0.05, # exponent step\n",
    "    continuous_update=False,\n",
    "    description='Detection rate'\n",
    ")\n",
    "\n",
    "error_slider = FloatLogSlider(\n",
    "    value=.1,\n",
    "    base=10,\n",
    "    min=-4, # max exponent of base\n",
    "    max=0, # min exponent of base\n",
    "    step=0.05, # exponent step\n",
    "    continuous_update=False,\n",
    "    description='Detection error rate'\n",
    ")\n",
    "    \n",
    "interact(f, size=size_slider, rate=rate_slider, e_rate=error_slider)"
   ]
  },
  {
   "cell_type": "code",
   "execution_count": null,
   "metadata": {},
   "outputs": [],
   "source": []
  }
 ],
 "metadata": {
  "kernelspec": {
   "display_name": "Python 3",
   "language": "python",
   "name": "python3"
  },
  "language_info": {
   "codemirror_mode": {
    "name": "ipython",
    "version": 3
   },
   "file_extension": ".py",
   "mimetype": "text/x-python",
   "name": "python",
   "nbconvert_exporter": "python",
   "pygments_lexer": "ipython3",
   "version": "3.7.6"
  }
 },
 "nbformat": 4,
 "nbformat_minor": 4
}
