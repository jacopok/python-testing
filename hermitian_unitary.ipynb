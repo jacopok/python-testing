{
 "metadata": {
  "language_info": {
   "codemirror_mode": {
    "name": "ipython",
    "version": 3
   },
   "file_extension": ".py",
   "mimetype": "text/x-python",
   "name": "python",
   "nbconvert_exporter": "python",
   "pygments_lexer": "ipython3",
   "version": "3.8.8-final"
  },
  "orig_nbformat": 2,
  "kernelspec": {
   "name": "python38864bitpython38envcondacf244bfccee044f1836606909d0a707d",
   "display_name": "Python 3.8.8 64-bit ('python38env': conda)"
  }
 },
 "nbformat": 4,
 "nbformat_minor": 2,
 "cells": [
  {
   "cell_type": "code",
   "execution_count": 13,
   "metadata": {},
   "outputs": [],
   "source": [
    "import numpy as np\n",
    "\n",
    "H = np.array([\n",
    "    [1, 1j],\n",
    "    [-1j, 0]\n",
    "])"
   ]
  },
  {
   "cell_type": "code",
   "execution_count": 15,
   "metadata": {},
   "outputs": [
    {
     "output_type": "stream",
     "name": "stdout",
     "text": [
      "[[ 1.-0.j -0.+1.j]\n [ 0.-1.j  0.-0.j]]\n"
     ]
    }
   ],
   "source": [
    "with np.printoptions(precision=0, suppress=True):\n",
    "    print(np.conj(H.T))"
   ]
  },
  {
   "cell_type": "code",
   "execution_count": 10,
   "metadata": {},
   "outputs": [
    {
     "output_type": "stream",
     "name": "stdout",
     "text": [
      "[[ 0.+1.j -1.-0.j]\n [ 1.+0.j  1.-0.j]]\n"
     ]
    }
   ],
   "source": [
    "from scipy.linalg import expm\n",
    "from numpy.linalg import matrix_power\n",
    "\n",
    "U = expm(1j * H)\n",
    "\n",
    "print(U)"
   ]
  },
  {
   "cell_type": "code",
   "execution_count": 5,
   "metadata": {},
   "outputs": [
    {
     "output_type": "execute_result",
     "data": {
      "text/plain": [
       "array([[1.+0.j, 0.+0.j],\n",
       "       [0.-0.j, 1.+0.j]])"
      ]
     },
     "metadata": {},
     "execution_count": 5
    }
   ],
   "source": [
    "U @ np.conj(U.T)"
   ]
  },
  {
   "cell_type": "code",
   "execution_count": 11,
   "metadata": {},
   "outputs": [
    {
     "output_type": "stream",
     "name": "stdout",
     "text": [
      "[[1.+0.j 0.+0.j]\n [0.+0.j 1.+0.j]]\n[[ 0.+1.j -1.+0.j]\n [ 1.-0.j  0.+0.j]]\n[[-1.+0.j  0.-0.j]\n [ 0.+0.j -0.+0.j]]\n[[ 0.-0.j  0.+0.j]\n [-0.+0.j  0.-0.j]]\n[[0.+0.j 0.+0.j]\n [0.-0.j 0.+0.j]]\n"
     ]
    }
   ],
   "source": [
    "from scipy.special import factorial\n",
    "\n",
    "for n in range(5):\n",
    "    print(matrix_power(1j*H, n) / factorial(n))"
   ]
  },
  {
   "cell_type": "code",
   "execution_count": null,
   "metadata": {},
   "outputs": [],
   "source": []
  }
 ]
}