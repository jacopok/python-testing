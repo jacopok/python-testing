{
 "cells": [
  {
   "cell_type": "code",
   "execution_count": 7,
   "metadata": {},
   "outputs": [],
   "source": [
    "import numpy as np\n",
    "import scipy.constants as cts\n",
    "pcts = cts.physical_constants\n",
    "from scipy.special import sph_harm\n",
    "\n",
    "from scipy.integrate import quad as integral"
   ]
  },
  {
   "cell_type": "code",
   "execution_count": 9,
   "metadata": {},
   "outputs": [],
   "source": [
    "def red_mass(m_1, m_2):\n",
    "    return(m_1 * m_2 / (m_1 + m_2))\n",
    "\n",
    "def energy_wl(x):\n",
    "    return(cts.c * cts.h / x)"
   ]
  },
  {
   "cell_type": "code",
   "execution_count": 13,
   "metadata": {},
   "outputs": [],
   "source": [
    "meV = cts.eV * 1e-3\n",
    "eV = cts.eV\n",
    "keV = cts.eV * 1e3\n",
    "MeV = cts.eV * 1e6"
   ]
  },
  {
   "cell_type": "markdown",
   "metadata": {},
   "source": [
    "### 1: Muonic atoms\n",
    "\n",
    "Ba: $m = 137.7$ amu, $Z=56$, $m_\\mu = 206 m_e$:\n",
    "\n",
    "* Calculate the wavelength for the transition $n=2$ to $n=1$.\n",
    "* Calculate the ionization energy\n",
    "* Calculate the $n$ for which the radius would be the bohr radius\n",
    "* What if instead of the muon we had a meson?"
   ]
  },
  {
   "cell_type": "code",
   "execution_count": 45,
   "metadata": {
    "scrolled": true
   },
   "outputs": [
    {
     "name": "stdout",
     "output_type": "stream",
     "text": [
      "6.611245219177223MeV\n",
      "8.814993625569631MeV\n",
      "14.0\n"
     ]
    }
   ],
   "source": [
    "def bohr_energy(reduced_mass, Z, n):\n",
    "    return(-1/2 * reduced_mass * (cts.c * cts.alpha * Z)**2 / (n**2))\n",
    "\n",
    "muon_mass = pcts['muon mass'][0]\n",
    "nucleus_mass = 137.3 * cts.value('atomic mass constant')\n",
    "reduced_mass = red_mass(muon_mass, nucleus_mass)\n",
    "\n",
    "Z = 56\n",
    "energy_21 = bohr_energy(reduced_mass, Z, 2) - bohr_energy(reduced_mass, Z, 1)\n",
    "\n",
    "mass_ratio = 1/pcts['electron-muon mass ratio'][0]\n",
    "n = np.floor(np.sqrt(mass_ratio))\n",
    "\n",
    "print(str(energy_21 / MeV) + \"MeV\")\n",
    "print(str(-bohr_energy(reduced_mass, Z, 1) / MeV) + \"MeV\")\n",
    "print(n)"
   ]
  },
  {
   "cell_type": "markdown",
   "metadata": {},
   "source": [
    "Recall that:\n",
    "\n",
    "$$\n",
    "r_n = \\left( \\frac{4\\pi \\varepsilon_0}{e^2 m_e} \\right) \\frac{n^2}{Z}\n",
    "$$\n",
    "\n",
    "So the dependences on $n$ and $m_e$, which we are interested in, are to the powers 2 and -1 respectively.\n",
    "\n",
    "Then, to account for the increase in $m_e$ we need to increase $n$."
   ]
  },
  {
   "cell_type": "markdown",
   "metadata": {},
   "source": [
    "### Infinite well perturbations\n",
    "\n",
    "Take an infinite potential well. We know its eigenfunctions $\\psi_n ^{(0)} (x) = \\sqrt{2/a} \\cos (\\pi x / 2a)$. We want to perturb them with a constant potential addition to the Hamiltonian: $H_1 = V_1 [-a/2, a/2]$. (the brackets are [Iverson brackets](https://en.wikipedia.org/wiki/Iverson_bracket)).\n",
    "\n",
    "* What will be the energy $E_1^{(1)}$?\n",
    "* Could we also perturb if we had $V_1 > E^0_1$?\n",
    "\n",
    "### Superfluid He\n",
    "\n",
    "Our physical reference is a finite potential well, of depth 1eV, at temperature $T=2.17$K, therefore $kT=0.25$meV.\n",
    "\n",
    "We insert an electron in the potential well, which polarizes it. The perturbation is modelled as\n",
    "\n",
    "$$\n",
    "V_p (x) = \\begin{cases}\n",
    "-\\frac{2V_0}{R}x \\qquad 0 \\leq x \\leq R/2 \\\\\n",
    "\\frac{2V_0}{R}(x-R) \\qquad R/2 \\leq x \\leq R\n",
    "\\end{cases}\n",
    "$$\n",
    "\n",
    "\n",
    "Recall that the eigenfunctions for the infinite well can be written as:\n",
    "\n",
    "$\\psi_n^+ (x) = \\cos ((n-1/2) \\frac{\\pi x}{a})$ and $\\psi_n^- (x) = \\sin (\\frac{n\\pi x}{a})$.\n",
    "\n",
    "Their energies are $E^+_n = \\frac{\\hbar^2 \\pi^2}{2ma^2} (n-1/2)^2$ and $E^-_n = \\frac{\\hbar^2 \\pi^2}{2ma^2} (n)^2$.\n",
    "\n",
    "* What will be the energy $E_1^1 = <1|H_1|1>$?\n",
    "* What will be first nonzero $c_{k1}$ coefficient, $c_{13}^1 = <3|H_1|1> / (E_1^0 - E_3^0)$?"
   ]
  },
  {
   "cell_type": "code",
   "execution_count": 37,
   "metadata": {},
   "outputs": [],
   "source": [
    "a = 1 # It is just a parameter, so we will not worry about it\n",
    "\n",
    "def well_functions(x, a, n, parity):\n",
    "    # a = half-length of well\n",
    "    norm = np.sqrt(1/a)\n",
    "    const = np.pi / a\n",
    "    if(parity==1):\n",
    "        return(norm * np.cos((n-1/2) *x*const))\n",
    "    elif(parity==-1):\n",
    "        return(norm * np.sin(n*x*const))\n",
    "\n",
    "def well_energy(x, a, n, m, parity):\n",
    "    const = (cts.hbar * np.pi / a)**2 / (2*m)\n",
    "    if(parity==1):\n",
    "        return(const * (n-1/2)**2)\n",
    "    elif(parity==-1):\n",
    "        return(const * n**2)\n",
    "\n",
    "def perturbation(x, R, V_0):\n",
    "    if(x<R/2):\n",
    "        return(-2*V_0*x/R)\n",
    "    else:\n",
    "        return(2*V_0*(x-R)/R)\n",
    "\n",
    "    \n",
    "R = 1e-10\n",
    "V_0 = 5/2 *meV\n",
    "to_integrate = lambda x : well_functions(x, R/2, 1, -1)**2 * perturbation(x, R=R, V_0=V_0)\n",
    "E11 = integral(to_integrate, 0, R)[0] / meV"
   ]
  },
  {
   "cell_type": "code",
   "execution_count": 36,
   "metadata": {},
   "outputs": [
    {
     "data": {
      "text/plain": [
       "-1.2497849086818993"
      ]
     },
     "execution_count": 36,
     "metadata": {},
     "output_type": "execute_result"
    }
   ],
   "source": [
    "E11"
   ]
  },
  {
   "cell_type": "code",
   "execution_count": null,
   "metadata": {},
   "outputs": [],
   "source": []
  }
 ],
 "metadata": {
  "kernelspec": {
   "display_name": "Python 3",
   "language": "python",
   "name": "python3"
  },
  "language_info": {
   "codemirror_mode": {
    "name": "ipython",
    "version": 3
   },
   "file_extension": ".py",
   "mimetype": "text/x-python",
   "name": "python",
   "nbconvert_exporter": "python",
   "pygments_lexer": "ipython3",
   "version": "3.6.8"
  }
 },
 "nbformat": 4,
 "nbformat_minor": 2
}
