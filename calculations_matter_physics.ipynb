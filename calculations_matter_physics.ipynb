{
 "cells": [
  {
   "cell_type": "code",
   "execution_count": 3,
   "metadata": {},
   "outputs": [],
   "source": [
    "import numpy as np\n",
    "import scipy.constants as cts"
   ]
  },
  {
   "cell_type": "code",
   "execution_count": 9,
   "metadata": {},
   "outputs": [],
   "source": [
    "def red_mass(m_1, m_2):\n",
    "    return(m_1 * m_2 / (m_1 + m_2))\n",
    "\n",
    "def energy_wl(x):\n",
    "    return(cts.c * cts.h / x)"
   ]
  },
  {
   "cell_type": "markdown",
   "metadata": {},
   "source": [
    "### 1: Muonic atoms\n",
    "\n",
    "Ba: $m = 137.7$ amu, $Z=56$, $m_\\mu = 206 m_e$:\n",
    "\n",
    "* Calculate the wavelength for the transition $n=2$ to $n=1$.\n",
    "* Calculate the ionization energy\n",
    "* Calculate the $n$ for which the radius would be the bohr radius\n",
    "* What if instead of the muon we had a meson?"
   ]
  },
  {
   "cell_type": "code",
   "execution_count": 20,
   "metadata": {},
   "outputs": [
    {
     "name": "stdout",
     "output_type": "stream",
     "text": [
      "6.611284643286547MeV\n",
      "8.81504619104873MeV\n"
     ]
    }
   ],
   "source": [
    "def bohr_energy(reduced_mass, Z, n):\n",
    "    return(-1/2 * reduced_mass * (cts.c * cts.alpha * Z)**2 / (n**2))\n",
    "\n",
    "muon_mass = 206.7682826 * cts.m_e\n",
    "nucleus_mass = 137.3 * cts.m_p\n",
    "reduced_mass = red_mass(muon_mass, nucleus_mass)\n",
    "\n",
    "Z = 56\n",
    "energy_21 = bohr_energy(reduced_mass, Z, 2) - bohr_energy(reduced_mass, Z, 1)\n",
    "print(str(energy_21 / cts.eV / 1e6) + \"MeV\")\n",
    "print(str(-bohr_energy(reduced_mass, Z, 1) / cts.eV / 1e6) + \"MeV\")\n"
   ]
  },
  {
   "cell_type": "code",
   "execution_count": null,
   "metadata": {},
   "outputs": [],
   "source": []
  }
 ],
 "metadata": {
  "kernelspec": {
   "display_name": "Python 3",
   "language": "python",
   "name": "python3"
  },
  "language_info": {
   "codemirror_mode": {
    "name": "ipython",
    "version": 3
   },
   "file_extension": ".py",
   "mimetype": "text/x-python",
   "name": "python",
   "nbconvert_exporter": "python",
   "pygments_lexer": "ipython3",
   "version": "3.6.8"
  }
 },
 "nbformat": 4,
 "nbformat_minor": 2
}
