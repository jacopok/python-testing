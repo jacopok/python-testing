{
 "cells": [
  {
   "cell_type": "code",
   "execution_count": 64,
   "metadata": {
    "scrolled": true
   },
   "outputs": [],
   "source": [
    "import numpy as np\n",
    "import matplotlib.pyplot as plt\n",
    "from astropy.visualization import astropy_mpl_style\n",
    "plt.style.use(astropy_mpl_style)\n",
    "from matplotlib import rc\n",
    "# rc('font',**{'family':'serif','serif':['Palatino']})\n",
    "rc('text', usetex=True)\n",
    "rc('text.latex', preamble=r'''\\usepackage{amsmath}\n",
    "          \\usepackage{physics}\n",
    "          \\usepackage{siunitx}\n",
    "          ''')\n",
    "from ipywidgets import interact\n"
   ]
  },
  {
   "cell_type": "code",
   "execution_count": 65,
   "metadata": {
    "scrolled": false
   },
   "outputs": [
    {
     "data": {
      "application/vnd.jupyter.widget-view+json": {
       "model_id": "705d27b7cb5c469786bd9847444a1ea7",
       "version_major": 2,
       "version_minor": 0
      },
      "text/plain": [
       "interactive(children=(FloatSlider(value=0.0, description='A', max=1.0, step=0.01), Output()), _dom_classes=('w…"
      ]
     },
     "metadata": {},
     "output_type": "display_data"
    }
   ],
   "source": [
    "thetas = np.linspace(0, 2* np.pi, num=200)\n",
    "\n",
    "# functions are in terms of A = a/GM\n",
    "# and return R = r/GM\n",
    "\n",
    "def ergo(t, A):\n",
    "    sq = np.sqrt(1 - A**2 * np.cos(t)**2)\n",
    "    return([1  - sq,1 + sq ])\n",
    "\n",
    "def horizon(t, A):\n",
    "    sq = np.sqrt(1 - A**2 ) + np.zeros_like(t)\n",
    "    return([1  - sq,1 + sq ])\n",
    "\n",
    "@interact(A=(0,1,.01))\n",
    "def p(A):\n",
    "    ax = plt.subplot(111,projection=\"polar\")\n",
    "    ax.set_theta_zero_location('N')\n",
    "    ergo_r = ergo(thetas, A)\n",
    "    hor_r = horizon(thetas, A)\n",
    "    ax.plot(thetas, ergo_r[0], label = \"Inner ergoregion\")\n",
    "    ax.plot(thetas, ergo_r[1], label = \"Outer ergoregion\")\n",
    "    ax.plot(thetas, hor_r[0], label = \"Inner horizon\")\n",
    "    ax.plot(thetas, hor_r[1], label = \"Outer ergoregion\")\n",
    "    ax.legend()"
   ]
  },
  {
   "cell_type": "code",
   "execution_count": null,
   "metadata": {
    "scrolled": true
   },
   "outputs": [],
   "source": []
  }
 ],
 "metadata": {
  "kernelspec": {
   "display_name": "Python 3",
   "language": "python",
   "name": "python3"
  },
  "language_info": {
   "codemirror_mode": {
    "name": "ipython",
    "version": 3
   },
   "file_extension": ".py",
   "mimetype": "text/x-python",
   "name": "python",
   "nbconvert_exporter": "python",
   "pygments_lexer": "ipython3",
   "version": "3.7.5"
  }
 },
 "nbformat": 4,
 "nbformat_minor": 2
}
