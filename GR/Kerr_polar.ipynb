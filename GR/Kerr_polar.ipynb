{
 "cells": [
  {
   "cell_type": "code",
   "execution_count": 1,
   "metadata": {
    "scrolled": true
   },
   "outputs": [],
   "source": [
    "import numpy as np\n",
    "import matplotlib.pyplot as plt\n",
    "from astropy.visualization import astropy_mpl_style\n",
    "plt.style.use(astropy_mpl_style)\n",
    "from matplotlib import rc\n",
    "# rc('font',**{'family':'serif','serif':['Palatino']})\n",
    "rc('text', usetex=True)\n",
    "rc('text.latex', preamble=r'''\\usepackage{amsmath}\n",
    "          \\usepackage{physics}\n",
    "          \\usepackage{siunitx}\n",
    "          ''')\n",
    "from ipywidgets import interact\n",
    "import ipywidgets as widgets\n"
   ]
  },
  {
   "cell_type": "code",
   "execution_count": 10,
   "metadata": {
    "scrolled": false
   },
   "outputs": [
    {
     "data": {
      "application/vnd.jupyter.widget-view+json": {
       "model_id": "072a0322dff2417bae2628c19a96445e",
       "version_major": 2,
       "version_minor": 0
      },
      "text/plain": [
       "interactive(children=(FloatLogSlider(value=1.0, description='(1 - A)', max=0.0, min=-4.0), Output()), _dom_cla…"
      ]
     },
     "metadata": {},
     "output_type": "display_data"
    }
   ],
   "source": [
    "thetas = np.linspace(0, 2* np.pi, num=200)\n",
    "\n",
    "# functions are in terms of A = a/GM\n",
    "# and return R = r/GM\n",
    "\n",
    "def ergo(t, A):\n",
    "    sq = np.sqrt(1 - A**2 * np.cos(t)**2)\n",
    "    return([1  - sq,1 + sq ])\n",
    "\n",
    "def horizon(t, A):\n",
    "    sq = np.sqrt(1 - A**2 ) + np.zeros_like(t)\n",
    "    return([1  - sq,1 + sq ])\n",
    "\n",
    "@interact(onemA=widgets.FloatLogSlider(\n",
    "    value=10,\n",
    "    base=10,\n",
    "    min=-4, # max exponent of base\n",
    "    max=0, # min exponent of base\n",
    "    step=0.1, # exponent step\n",
    "    description='(1 - A)'\n",
    "))\n",
    "def p(onemA):\n",
    "    A = 1 - onemA\n",
    "    fig = plt.figure(figsize=(10,10))\n",
    "    ax = fig.add_subplot(111,projection=\"polar\")\n",
    "    ax.set_theta_zero_location('N')\n",
    "    ergo_r = ergo(thetas, A)\n",
    "    hor_r = horizon(thetas, A)\n",
    "    ax.plot(thetas, ergo_r[0], label = \"Inner ergoregion\")\n",
    "    ax.plot(thetas, ergo_r[1], label = \"Outer ergoregion\")\n",
    "    ax.plot(thetas, hor_r[0], label = \"Inner horizon\")\n",
    "    ax.plot(thetas, hor_r[1], label = \"Outer ergoregion\")\n",
    "    ax.legend()"
   ]
  },
  {
   "cell_type": "code",
   "execution_count": null,
   "metadata": {
    "scrolled": false
   },
   "outputs": [],
   "source": []
  }
 ],
 "metadata": {
  "kernelspec": {
   "display_name": "Python 3",
   "language": "python",
   "name": "python3"
  },
  "language_info": {
   "codemirror_mode": {
    "name": "ipython",
    "version": 3
   },
   "file_extension": ".py",
   "mimetype": "text/x-python",
   "name": "python",
   "nbconvert_exporter": "python",
   "pygments_lexer": "ipython3",
   "version": "3.7.5"
  }
 },
 "nbformat": 4,
 "nbformat_minor": 2
}
