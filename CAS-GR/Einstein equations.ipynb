{
 "cells": [
  {
   "cell_type": "code",
   "execution_count": 1,
   "metadata": {},
   "outputs": [],
   "source": [
    "import cdb.core.manip as manip\n"
   ]
  },
  {
   "cell_type": "code",
   "execution_count": 2,
   "metadata": {},
   "outputs": [
    {
     "data": {
      "text/markdown": [
       "${}\\text{Attached property Indices(position=independent) to~}\\left[\\mu,~ \\nu,~ \\rho,~ \\sigma,~ \\alpha,~ \\beta,~ \\gamma,~ \\lambda,~ \\tau,~ \\pi,~ \\xi,~ \\iota,~ \\omega,~ \\kappa,~ \\psi,~ \\chi,~ \\epsilon,~ \\upsilon\\right].$"
      ]
     },
     "execution_count": 2,
     "metadata": {},
     "output_type": "execute_result"
    }
   ],
   "source": [
    "{\\mu,\\nu,\\rho,\\sigma,\\alpha,\\beta,\\gamma,\\lambda,\\tau,\\pi,\\xi,\\iota,\\omega,\\kappa,\\psi,\\chi,\\epsilon,\\upsilon}::Indices(position=independent);\n",
    "g_{\\mu\\nu}::Metric.\n",
    "g^{\\mu\\nu}::InverseMetric.\n",
    "{\\delta{#},g_{\\mu}^{\\nu},g^{\\mu}_{\\nu}}::KroneckerDelta."
   ]
  },
  {
   "cell_type": "code",
   "execution_count": 3,
   "metadata": {},
   "outputs": [],
   "source": [
    "\\Lm::LaTeXForm(\"\\mathcal{L}_{\\text{mat}}\").    \t\t\n",
    "\\Dg::LaTeXForm(\"\\sqrt{-g}\").          \n",
    "\\dg{#}::LaTeXForm(\"\\delta g\").  \t\t\n",
    "\\dLm::LaTeXForm(\"\\delta\\mathcal{L}_{\\text{mat}}\").  \n",
    "\\d::LaTeXForm(\"\\delta\").\n",
    "\\dDg::LaTeXForm(\"\\delta\\sqrt{-g}\").   \n",
    "\\dCn{#}::LaTeXForm(\"\\delta\\Gamma\").         \n",
    "\\dR{#}::LaTeXForm(\"\\delta R\")."
   ]
  },
  {
   "cell_type": "code",
   "execution_count": 4,
   "metadata": {},
   "outputs": [],
   "source": [
    "\\Gamma^{\\alpha}_{\\mu\\nu}::TableauSymmetry(shape={2}, indices={1,2}).\n",
    "\\dGamma^{\\alpha}_{\\mu\\nu}::TableauSymmetry(shape={2}, indices={1,2})."
   ]
  },
  {
   "cell_type": "code",
   "execution_count": 5,
   "metadata": {},
   "outputs": [
    {
     "data": {
      "text/markdown": [
       "${}\\text{Attached property PartialDerivative to~}\\partial{\\#}.$"
      ]
     },
     "execution_count": 5,
     "metadata": {},
     "output_type": "execute_result"
    },
    {
     "data": {
      "text/markdown": [
       "${}\\text{Attached property Derivative to~}\\left[\\nabla{\\#},~ \\delta{\\#}\\right].$"
      ]
     },
     "execution_count": 5,
     "metadata": {},
     "output_type": "execute_result"
    }
   ],
   "source": [
    "{\\partial{#}}::PartialDerivative;\n",
    "{\\nabla{#},\\delta{#}}::Derivative;"
   ]
  },
  {
   "cell_type": "code",
   "execution_count": 6,
   "metadata": {},
   "outputs": [
    {
     "data": {
      "text/markdown": [
       "${}\\Gamma^{\\mu}\\,_{\\nu \\rho} = \\frac{1}{2}g^{\\mu \\sigma} \\left(\\partial_{\\rho}{g_{\\nu \\sigma}}+\\partial_{\\nu}{g_{\\rho \\sigma}}-\\partial_{\\sigma}{g_{\\nu \\rho}}\\right)$"
      ]
     },
     "execution_count": 6,
     "metadata": {},
     "output_type": "execute_result"
    },
    {
     "data": {
      "text/markdown": [
       "${}R^{\\rho}\\,_{\\sigma \\mu \\nu} = \\partial_{\\mu}{\\Gamma^{\\rho}\\,_{\\nu \\sigma}}-\\partial_{\\nu}{\\Gamma^{\\rho}\\,_{\\mu \\sigma}}+\\Gamma^{\\rho}\\,_{\\mu \\lambda} \\Gamma^{\\lambda}\\,_{\\nu \\sigma}-\\Gamma^{\\rho}\\,_{\\nu \\lambda} \\Gamma^{\\lambda}\\,_{\\mu \\sigma}$"
      ]
     },
     "execution_count": 6,
     "metadata": {},
     "output_type": "execute_result"
    },
    {
     "data": {
      "text/markdown": [
       "${}R_{\\sigma \\nu} = R^{\\rho}\\,_{\\sigma \\rho \\nu}$"
      ]
     },
     "execution_count": 6,
     "metadata": {},
     "output_type": "execute_result"
    },
    {
     "data": {
      "text/markdown": [
       "${}R = R_{\\sigma \\nu} g^{\\sigma \\nu}$"
      ]
     },
     "execution_count": 6,
     "metadata": {},
     "output_type": "execute_result"
    },
    {
     "data": {
      "text/markdown": [
       "${}G_{\\mu \\nu} = R_{\\mu \\nu} - \\frac{1}{2}g_{\\mu \\nu} R$"
      ]
     },
     "execution_count": 6,
     "metadata": {},
     "output_type": "execute_result"
    }
   ],
   "source": [
    "connection       := \\Gamma^{\\mu}_{\\nu\\rho} = 1/2 g^{\\mu\\sigma} ( \\partial_{\\rho}{g_{\\nu\\sigma}} +\\partial_{\\nu}{g_{\\rho\\sigma}} -\\partial_{\\sigma}{g_{\\nu\\rho}} );\n",
    "riemannTensor    := R^{\\rho}_{\\sigma\\mu\\nu} = \\partial_{\\mu}{\\Gamma^{\\rho}_{\\nu\\sigma}} -\\partial_{\\nu}{\\Gamma^{\\rho}_{\\mu\\sigma}} \n",
    "                                              +\\Gamma^{\\rho}_{\\mu\\lambda} \\Gamma^{\\lambda}_{\\nu\\sigma} -\\Gamma^{\\rho}_{\\nu\\lambda} \\Gamma^{\\lambda}_{\\mu\\sigma};\n",
    "ricciTensor      := R_{\\sigma\\nu} = R^{\\rho}_{\\sigma\\rho\\nu};\n",
    "scalarCurvature  := R = R_{\\sigma\\nu} g^{\\sigma\\nu};      \n",
    "einsteinTensor   := G_{\\mu\\nu} = R_{\\mu\\nu} - 1/2 g_{\\mu\\nu} R;"
   ]
  },
  {
   "cell_type": "code",
   "execution_count": 7,
   "metadata": {},
   "outputs": [
    {
     "data": {
      "text/markdown": [
       "${}S = \\int \\sqrt{-g} \\left(\\frac{1}{2}{\\kappa}^{-1} \\left(R-2\\Lambda\\right)+\\mathcal{L}_{\\text{mat}}\\right)\\,\\,{\\rm d}x$"
      ]
     },
     "execution_count": 7,
     "metadata": {},
     "output_type": "execute_result"
    },
    {
     "data": {
      "text/markdown": [
       "${}S = \\int \\left(\\frac{1}{2}\\sqrt{-g} {\\kappa}^{-1} R-\\sqrt{-g} {\\kappa}^{-1} \\Lambda+\\sqrt{-g} \\mathcal{L}_{\\text{mat}}\\right)\\,\\,{\\rm d}x$"
      ]
     },
     "execution_count": 7,
     "metadata": {},
     "output_type": "execute_result"
    }
   ],
   "source": [
    "action := S = \\int{\\Dg*[1/2*1/\\kappa*(R-2\\Lambda)+\\Lm]}{x};\n",
    "distribute(_);"
   ]
  },
  {
   "cell_type": "code",
   "execution_count": 8,
   "metadata": {},
   "outputs": [
    {
     "data": {
      "text/markdown": [
       "${}\\delta{\\sqrt{-g}} =  - \\frac{1}{2}\\sqrt{-g} g_{\\mu \\nu} \\delta g^{\\mu \\nu}$"
      ]
     },
     "execution_count": 8,
     "metadata": {},
     "output_type": "execute_result"
    }
   ],
   "source": [
    "deltaMetricDeterminant := \\delta(\\Dg) = -\\frac{1}{2}*\\Dg*g_{\\mu\\nu}\\dg^{\\mu\\nu}; "
   ]
  },
  {
   "cell_type": "code",
   "execution_count": 9,
   "metadata": {},
   "outputs": [
    {
     "data": {
      "text/markdown": [
       "${}\\sqrt{-g} T_{\\mu \\nu} \\delta g^{\\mu \\nu} = -2\\delta\\left(\\sqrt{-g} \\mathcal{L}_{\\text{mat}}\\right)$"
      ]
     },
     "execution_count": 9,
     "metadata": {},
     "output_type": "execute_result"
    },
    {
     "data": {
      "text/markdown": [
       "${}\\sqrt{-g} g_{\\mu \\nu} \\delta g^{\\mu \\nu} \\mathcal{L}_{\\text{mat}}-2\\sqrt{-g} \\delta{\\mathcal{L}_{\\text{mat}}} = \\sqrt{-g} T_{\\mu \\nu} \\delta g^{\\mu \\nu}$"
      ]
     },
     "execution_count": 9,
     "metadata": {},
     "output_type": "execute_result"
    }
   ],
   "source": [
    "energyMomentumTensor := \\Dg T_{\\mu\\nu}\\dg^{\\mu\\nu} = -2\\delta(\\Dg*\\Lm);\n",
    "product_rule(_)\n",
    "distribute(_)\n",
    "substitute(_,deltaMetricDeterminant)\n",
    "matterLagrangianVariation = manip.swap_sides(_);"
   ]
  },
  {
   "cell_type": "code",
   "execution_count": 10,
   "metadata": {},
   "outputs": [
    {
     "data": {
      "text/markdown": [
       "${}\\nabla_{\\sigma}{\\delta\\Gamma^{\\mu}\\,_{\\nu \\rho}} = \\partial_{\\sigma}{\\delta\\Gamma^{\\mu}\\,_{\\nu \\rho}}+\\Gamma^{\\mu}\\,_{\\sigma \\alpha} \\delta\\Gamma^{\\alpha}\\,_{\\nu \\rho}-\\Gamma^{\\alpha}\\,_{\\sigma \\nu} \\delta\\Gamma^{\\mu}\\,_{\\alpha \\rho}-\\Gamma^{\\alpha}\\,_{\\sigma \\rho} \\delta\\Gamma^{\\mu}\\,_{\\nu \\alpha}$"
      ]
     },
     "execution_count": 10,
     "metadata": {},
     "output_type": "execute_result"
    },
    {
     "data": {
      "text/markdown": [
       "${}0 = \\partial_{\\sigma}{\\delta\\Gamma^{\\mu}\\,_{\\nu \\rho}}+\\Gamma^{\\mu}\\,_{\\sigma \\alpha} \\delta\\Gamma^{\\alpha}\\,_{\\nu \\rho}-\\Gamma^{\\alpha}\\,_{\\sigma \\nu} \\delta\\Gamma^{\\mu}\\,_{\\alpha \\rho}-\\Gamma^{\\alpha}\\,_{\\sigma \\rho} \\delta\\Gamma^{\\mu}\\,_{\\nu \\alpha}-\\nabla_{\\sigma}{\\delta\\Gamma^{\\mu}\\,_{\\nu \\rho}}$"
      ]
     },
     "execution_count": 10,
     "metadata": {},
     "output_type": "execute_result"
    },
    {
     "data": {
      "text/markdown": [
       "${}-\\partial_{\\sigma}{\\delta\\Gamma^{\\mu}\\,_{\\nu \\rho}} = \\Gamma^{\\mu}\\,_{\\sigma \\alpha} \\delta\\Gamma^{\\alpha}\\,_{\\nu \\rho}-\\Gamma^{\\alpha}\\,_{\\sigma \\nu} \\delta\\Gamma^{\\mu}\\,_{\\alpha \\rho}-\\Gamma^{\\alpha}\\,_{\\sigma \\rho} \\delta\\Gamma^{\\mu}\\,_{\\nu \\alpha}-\\nabla_{\\sigma}{\\delta\\Gamma^{\\mu}\\,_{\\nu \\rho}}$"
      ]
     },
     "execution_count": 10,
     "metadata": {},
     "output_type": "execute_result"
    },
    {
     "data": {
      "text/markdown": [
       "${}\\partial_{\\sigma}{\\delta\\Gamma^{\\mu}\\,_{\\nu \\rho}} = -\\Gamma^{\\mu}\\,_{\\sigma \\alpha} \\delta\\Gamma^{\\alpha}\\,_{\\nu \\rho}+\\Gamma^{\\alpha}\\,_{\\sigma \\nu} \\delta\\Gamma^{\\mu}\\,_{\\alpha \\rho}+\\Gamma^{\\alpha}\\,_{\\sigma \\rho} \\delta\\Gamma^{\\mu}\\,_{\\nu \\alpha}+\\nabla_{\\sigma}{\\delta\\Gamma^{\\mu}\\,_{\\nu \\rho}}$"
      ]
     },
     "execution_count": 10,
     "metadata": {},
     "output_type": "execute_result"
    }
   ],
   "source": [
    "covariantDerivativeCn := \\nabla_{\\sigma}(\\dCn^{\\mu}_{\\nu\\rho}) = \\partial_{\\sigma}(\\dCn^{\\mu}_{\\nu\\rho})\n",
    "                        +\\Gamma^{\\mu}_{\\sigma\\alpha}\\dCn^{\\alpha}_{\\nu\\rho}-\\Gamma^{\\alpha}_{\\sigma\\nu}\\dCn^{\\mu}_{\\alpha\\rho}\n",
    "                        -\\Gamma^{\\alpha}_{\\sigma\\rho}\\dCn^{\\mu}_{\\nu\\alpha}; \n",
    "covariantDerivativeCn1 = manip.to_rhs(_, $\\nabla_{\\sigma}{A??}$);\n",
    "covariantDerivativeCn2 = manip.to_lhs(_, $\\partial_{\\sigma}{A??}$);\n",
    "partialDerivativeCn = manip.multiply_through(covariantDerivativeCn2, $-1$);"
   ]
  },
  {
   "cell_type": "code",
   "execution_count": 11,
   "metadata": {},
   "outputs": [
    {
     "data": {
      "text/markdown": [
       "${}\\delta R^{\\rho}\\,_{\\sigma \\mu \\nu} = \\partial_{\\mu}{\\delta\\Gamma^{\\rho}\\,_{\\nu \\sigma}}-\\partial_{\\nu}{\\delta\\Gamma^{\\rho}\\,_{\\mu \\sigma}}+\\delta\\Gamma^{\\rho}\\,_{\\mu \\lambda} \\Gamma^{\\lambda}\\,_{\\nu \\sigma}+\\Gamma^{\\rho}\\,_{\\mu \\lambda} \\delta\\Gamma^{\\lambda}\\,_{\\nu \\sigma}-\\delta\\Gamma^{\\rho}\\,_{\\nu \\lambda} \\Gamma^{\\lambda}\\,_{\\mu \\sigma}-\\Gamma^{\\rho}\\,_{\\nu \\lambda} \\delta\\Gamma^{\\lambda}\\,_{\\mu \\sigma}$"
      ]
     },
     "execution_count": 11,
     "metadata": {},
     "output_type": "execute_result"
    },
    {
     "data": {
      "text/markdown": [
       "${}\\delta R^{\\rho}\\,_{\\sigma \\mu \\nu} = \\partial_{\\mu}{\\delta\\Gamma^{\\rho}\\,_{\\nu \\sigma}}-\\partial_{\\nu}{\\delta\\Gamma^{\\rho}\\,_{\\mu \\sigma}}+\\Gamma^{\\lambda}\\,_{\\nu \\sigma} \\delta\\Gamma^{\\rho}\\,_{\\mu \\lambda}+\\Gamma^{\\rho}\\,_{\\mu \\lambda} \\delta\\Gamma^{\\lambda}\\,_{\\nu \\sigma}-\\Gamma^{\\lambda}\\,_{\\mu \\sigma} \\delta\\Gamma^{\\rho}\\,_{\\nu \\lambda}-\\Gamma^{\\rho}\\,_{\\nu \\lambda} \\delta\\Gamma^{\\lambda}\\,_{\\mu \\sigma}$"
      ]
     },
     "execution_count": 11,
     "metadata": {},
     "output_type": "execute_result"
    },
    {
     "data": {
      "text/markdown": [
       "${}\\delta R^{\\rho}\\,_{\\sigma \\mu \\nu} = -\\Gamma^{\\rho}\\,_{\\mu \\alpha} \\delta\\Gamma^{\\alpha}\\,_{\\nu \\sigma}+\\Gamma^{\\alpha}\\,_{\\mu \\nu} \\delta\\Gamma^{\\rho}\\,_{\\alpha \\sigma}+\\Gamma^{\\alpha}\\,_{\\mu \\sigma} \\delta\\Gamma^{\\rho}\\,_{\\nu \\alpha}+\\nabla_{\\mu}{\\delta\\Gamma^{\\rho}\\,_{\\nu \\sigma}}+\\Gamma^{\\rho}\\,_{\\nu \\alpha} \\delta\\Gamma^{\\alpha}\\,_{\\mu \\sigma}-\\Gamma^{\\alpha}\\,_{\\nu \\mu} \\delta\\Gamma^{\\rho}\\,_{\\alpha \\sigma}-\\Gamma^{\\alpha}\\,_{\\nu \\sigma} \\delta\\Gamma^{\\rho}\\,_{\\mu \\alpha}-\\nabla_{\\nu}{\\delta\\Gamma^{\\rho}\\,_{\\mu \\sigma}}+\\Gamma^{\\lambda}\\,_{\\nu \\sigma} \\delta\\Gamma^{\\rho}\\,_{\\mu \\lambda}+\\Gamma^{\\rho}\\,_{\\mu \\lambda} \\delta\\Gamma^{\\lambda}\\,_{\\nu \\sigma}-\\Gamma^{\\lambda}\\,_{\\mu \\sigma} \\delta\\Gamma^{\\rho}\\,_{\\nu \\lambda}-\\Gamma^{\\rho}\\,_{\\nu \\lambda} \\delta\\Gamma^{\\lambda}\\,_{\\mu \\sigma}$"
      ]
     },
     "execution_count": 11,
     "metadata": {},
     "output_type": "execute_result"
    },
    {
     "data": {
      "text/markdown": [
       "${}\\delta R^{\\rho}\\,_{\\sigma \\mu \\nu} = \\Gamma^{\\alpha}\\,_{\\mu \\nu} \\delta\\Gamma^{\\rho}\\,_{\\alpha \\sigma}+\\nabla_{\\mu}{\\delta\\Gamma^{\\rho}\\,_{\\nu \\sigma}}-\\Gamma^{\\alpha}\\,_{\\nu \\mu} \\delta\\Gamma^{\\rho}\\,_{\\alpha \\sigma}-\\nabla_{\\nu}{\\delta\\Gamma^{\\rho}\\,_{\\mu \\sigma}}$"
      ]
     },
     "execution_count": 11,
     "metadata": {},
     "output_type": "execute_result"
    },
    {
     "data": {
      "text/markdown": [
       "${}\\delta R^{\\rho}\\,_{\\sigma \\mu \\nu} = \\nabla_{\\mu}{\\delta\\Gamma^{\\rho}\\,_{\\nu \\sigma}}-\\nabla_{\\nu}{\\delta\\Gamma^{\\rho}\\,_{\\mu \\sigma}}$"
      ]
     },
     "execution_count": 11,
     "metadata": {},
     "output_type": "execute_result"
    }
   ],
   "source": [
    "deltaRiemannTensor = vary(riemannTensor, $\\Gamma^{\\mu}_{\\nu\\rho}->\\dCn^{\\mu}_{\\nu\\rho}, R^{\\rho}_{\\sigma\\mu\\nu} -> \\dR^{\\rho}_{\\sigma\\mu\\nu}$);\n",
    "sort_product(_);\n",
    "substitute(_,partialDerivativeCn);\n",
    "rename_dummies(_);\n",
    "canonicalise(_);"
   ]
  },
  {
   "cell_type": "code",
   "execution_count": 12,
   "metadata": {},
   "outputs": [
    {
     "data": {
      "text/markdown": [
       "${}\\delta R_{\\sigma \\nu} = \\delta R^{\\rho}\\,_{\\sigma \\rho \\nu}$"
      ]
     },
     "execution_count": 12,
     "metadata": {},
     "output_type": "execute_result"
    },
    {
     "data": {
      "text/markdown": [
       "${}\\delta R_{\\sigma \\nu} = \\nabla_{\\rho}{\\delta\\Gamma^{\\rho}\\,_{\\nu \\sigma}}-\\nabla_{\\nu}{\\delta\\Gamma^{\\rho}\\,_{\\rho \\sigma}}$"
      ]
     },
     "execution_count": 12,
     "metadata": {},
     "output_type": "execute_result"
    }
   ],
   "source": [
    "deltaRicciTensor = vary(ricciTensor, $R^{\\rho}_{\\sigma\\rho\\nu}->\\dR^{\\rho}_{\\sigma\\rho\\nu}, R_{\\sigma\\nu} -> \\dR_{\\sigma\\nu}$);\n",
    "substitute(_,deltaRiemannTensor);\n"
   ]
  },
  {
   "cell_type": "code",
   "execution_count": 13,
   "metadata": {},
   "outputs": [
    {
     "data": {
      "text/markdown": [
       "${}\\delta R = \\delta R_{\\sigma \\nu} g^{\\sigma \\nu}+R_{\\sigma \\nu} \\delta g^{\\sigma \\nu}$"
      ]
     },
     "execution_count": 13,
     "metadata": {},
     "output_type": "execute_result"
    },
    {
     "data": {
      "text/markdown": [
       "${}\\delta R = \\left(\\nabla_{\\rho}{\\delta\\Gamma^{\\rho}\\,_{\\nu \\sigma}}-\\nabla_{\\nu}{\\delta\\Gamma^{\\rho}\\,_{\\rho \\sigma}}\\right) g^{\\sigma \\nu}+R_{\\sigma \\nu} \\delta g^{\\sigma \\nu}$"
      ]
     },
     "execution_count": 13,
     "metadata": {},
     "output_type": "execute_result"
    },
    {
     "data": {
      "text/markdown": [
       "${}\\delta R = \\nabla_{\\rho}{\\delta\\Gamma^{\\rho}\\,_{\\nu \\sigma}} g^{\\sigma \\nu}-\\nabla_{\\nu}{\\delta\\Gamma^{\\rho}\\,_{\\rho \\sigma}} g^{\\sigma \\nu}+R_{\\sigma \\nu} \\delta g^{\\sigma \\nu}$"
      ]
     },
     "execution_count": 13,
     "metadata": {},
     "output_type": "execute_result"
    },
    {
     "data": {
      "text/markdown": [
       "${}\\delta R = \\nabla_{\\rho}\\left(\\delta\\Gamma^{\\rho}\\,_{\\nu \\sigma} g^{\\sigma \\nu}\\right)-\\nabla_{\\nu}\\left(\\delta\\Gamma^{\\rho}\\,_{\\rho \\sigma} g^{\\sigma \\nu}\\right)+R_{\\sigma \\nu} \\delta g^{\\sigma \\nu}$"
      ]
     },
     "execution_count": 13,
     "metadata": {},
     "output_type": "execute_result"
    },
    {
     "data": {
      "text/markdown": [
       "${}\\delta R = \\nabla_{\\nu}\\left(\\delta\\Gamma^{\\nu}\\,_{\\rho \\sigma} g^{\\rho \\sigma}\\right)-\\nabla_{\\nu}\\left(\\delta\\Gamma^{\\rho}\\,_{\\rho \\sigma} g^{\\nu \\sigma}\\right)+R_{\\nu \\sigma} \\delta g^{\\nu \\sigma}$"
      ]
     },
     "execution_count": 13,
     "metadata": {},
     "output_type": "execute_result"
    }
   ],
   "source": [
    "deltaScalarCurvature = vary(scalarCurvature, $R-> \\dR, R_{\\sigma\\nu} -> \\dR_{\\sigma\\nu}, g^{\\mu\\nu}->\\dg^{\\mu\\nu}$);\n",
    "substitute(_,deltaRicciTensor);\n",
    "distribute(_);\n",
    "substitute(_,$\\nabla_{\\sigma}(\\dCn^{\\mu}_{\\nu\\rho})g^{\\alpha\\beta}->\\nabla_{\\sigma}(\\dCn^{\\mu}_{\\nu\\rho}g^{\\alpha\\beta})$);\n",
    "canonicalise(_);"
   ]
  },
  {
   "cell_type": "code",
   "execution_count": 14,
   "metadata": {},
   "outputs": [
    {
     "data": {
      "text/markdown": [
       "${}\\delta{S} = \\int \\left(\\frac{1}{2}\\delta{\\sqrt{-g}} {\\kappa}^{-1} R+\\frac{1}{2}\\sqrt{-g} {\\kappa}^{-1} \\delta R-\\delta{\\sqrt{-g}} {\\kappa}^{-1} \\Lambda+\\delta{\\sqrt{-g}} \\mathcal{L}_{\\text{mat}}+\\sqrt{-g} \\delta{\\mathcal{L}_{\\text{mat}}}\\right)\\,\\,{\\rm d}x$"
      ]
     },
     "execution_count": 14,
     "metadata": {},
     "output_type": "execute_result"
    },
    {
     "data": {
      "text/markdown": [
       "${}\\delta{S} = \\int \\left( - \\frac{1}{4}\\sqrt{-g} g_{\\mu \\nu} \\delta g^{\\mu \\nu} {\\kappa}^{-1} R+\\frac{1}{2}\\sqrt{-g} {\\kappa}^{-1} \\delta R+\\frac{1}{2}\\sqrt{-g} g_{\\mu \\nu} \\delta g^{\\mu \\nu} {\\kappa}^{-1} \\Lambda - \\frac{1}{2}\\sqrt{-g} g_{\\mu \\nu} \\delta g^{\\mu \\nu} \\mathcal{L}_{\\text{mat}}+\\sqrt{-g} \\delta{\\mathcal{L}_{\\text{mat}}}\\right)\\,\\,{\\rm d}x$"
      ]
     },
     "execution_count": 14,
     "metadata": {},
     "output_type": "execute_result"
    },
    {
     "data": {
      "text/markdown": [
       "${}\\delta{S} = \\int \\left( - \\frac{1}{4}\\sqrt{-g} g_{\\mu \\nu} \\delta g^{\\mu \\nu} {\\kappa}^{-1} R+\\frac{1}{2}\\sqrt{-g} {\\kappa}^{-1} \\delta R+\\frac{1}{2}\\sqrt{-g} g_{\\mu \\nu} \\delta g^{\\mu \\nu} {\\kappa}^{-1} \\Lambda - \\frac{1}{2}\\sqrt{-g} T_{\\mu \\nu} \\delta g^{\\mu \\nu}\\right)\\,\\,{\\rm d}x$"
      ]
     },
     "execution_count": 14,
     "metadata": {},
     "output_type": "execute_result"
    },
    {
     "data": {
      "text/markdown": [
       "${}\\delta{S} = \\int \\left( - \\frac{1}{4}\\sqrt{-g} g_{\\mu \\nu} \\delta g^{\\mu \\nu} {\\kappa}^{-1} R+\\frac{1}{2}\\sqrt{-g} {\\kappa}^{-1} \\left(\\nabla_{\\nu}\\left(\\delta\\Gamma^{\\nu}\\,_{\\rho \\sigma} g^{\\rho \\sigma}\\right)-\\nabla_{\\nu}\\left(\\delta\\Gamma^{\\rho}\\,_{\\rho \\sigma} g^{\\nu \\sigma}\\right)+R_{\\nu \\sigma} \\delta g^{\\nu \\sigma}\\right)+\\frac{1}{2}\\sqrt{-g} g_{\\mu \\nu} \\delta g^{\\mu \\nu} {\\kappa}^{-1} \\Lambda - \\frac{1}{2}\\sqrt{-g} T_{\\mu \\nu} \\delta g^{\\mu \\nu}\\right)\\,\\,{\\rm d}x$"
      ]
     },
     "execution_count": 14,
     "metadata": {},
     "output_type": "execute_result"
    },
    {
     "data": {
      "text/markdown": [
       "${}\\delta{S} = \\int \\left( - \\frac{1}{4}\\sqrt{-g} g_{\\mu \\nu} \\delta g^{\\mu \\nu} {\\kappa}^{-1} R+\\frac{1}{2}\\sqrt{-g} {\\kappa}^{-1} \\nabla_{\\nu}\\left(\\delta\\Gamma^{\\nu}\\,_{\\rho \\sigma} g^{\\rho \\sigma}\\right) - \\frac{1}{2}\\sqrt{-g} {\\kappa}^{-1} \\nabla_{\\nu}\\left(\\delta\\Gamma^{\\rho}\\,_{\\rho \\sigma} g^{\\nu \\sigma}\\right)+\\frac{1}{2}\\sqrt{-g} {\\kappa}^{-1} R_{\\nu \\sigma} \\delta g^{\\nu \\sigma}+\\frac{1}{2}\\sqrt{-g} g_{\\mu \\nu} \\delta g^{\\mu \\nu} {\\kappa}^{-1} \\Lambda - \\frac{1}{2}\\sqrt{-g} T_{\\mu \\nu} \\delta g^{\\mu \\nu}\\right)\\,\\,{\\rm d}x$"
      ]
     },
     "execution_count": 14,
     "metadata": {},
     "output_type": "execute_result"
    },
    {
     "data": {
      "text/markdown": [
       "${}\\delta{S} = \\int \\left( - \\frac{1}{4}\\sqrt{-g} g_{\\mu \\nu} \\delta g^{\\mu \\nu} {\\kappa}^{-1} R+\\frac{1}{2}\\sqrt{-g} {\\kappa}^{-1} \\nabla_{\\mu}\\left(\\delta\\Gamma^{\\mu}\\,_{\\nu \\rho} g^{\\nu \\rho}\\right) - \\frac{1}{2}\\sqrt{-g} {\\kappa}^{-1} \\nabla_{\\rho}\\left(\\delta\\Gamma^{\\mu}\\,_{\\mu \\nu} g^{\\rho \\nu}\\right)+\\frac{1}{2}\\sqrt{-g} {\\kappa}^{-1} R_{\\mu \\nu} \\delta g^{\\mu \\nu}+\\frac{1}{2}\\sqrt{-g} g_{\\mu \\nu} \\delta g^{\\mu \\nu} {\\kappa}^{-1} \\Lambda - \\frac{1}{2}\\sqrt{-g} T_{\\mu \\nu} \\delta g^{\\mu \\nu}\\right)\\,\\,{\\rm d}x$"
      ]
     },
     "execution_count": 14,
     "metadata": {},
     "output_type": "execute_result"
    },
    {
     "data": {
      "text/markdown": [
       "${}\\delta{S} = \\int \\left(\\sqrt{-g} \\delta g^{\\mu \\nu} \\left( - \\frac{1}{4}g_{\\mu \\nu} {\\kappa}^{-1} R+\\frac{1}{2}{\\kappa}^{-1} R_{\\mu \\nu}+\\frac{1}{2}g_{\\mu \\nu} {\\kappa}^{-1} \\Lambda - \\frac{1}{2}T_{\\mu \\nu}\\right)+\\sqrt{-g} \\left(\\frac{1}{2}{\\kappa}^{-1} \\nabla_{\\mu}\\left(\\delta\\Gamma^{\\mu}\\,_{\\nu \\rho} g^{\\nu \\rho}\\right) - \\frac{1}{2}{\\kappa}^{-1} \\nabla_{\\rho}\\left(\\delta\\Gamma^{\\mu}\\,_{\\mu \\nu} g^{\\rho \\nu}\\right)\\right)\\right)\\,\\,{\\rm d}x$"
      ]
     },
     "execution_count": 14,
     "metadata": {},
     "output_type": "execute_result"
    }
   ],
   "source": [
    "vary(action, $\\Dg->\\delta(\\Dg), R -> \\dR, \\Lm->\\delta(\\Lm), S->\\delta(S)$);\n",
    "substitute(action, deltaMetricDeterminant);\n",
    "substitute(action, matterLagrangianVariation);\n",
    "substitute(action, deltaScalarCurvature);\n",
    "distribute(action);\n",
    "rename_dummies(action);\n",
    "factor_out(action, $\\dg^{\\mu\\nu}, \\Dg$);"
   ]
  },
  {
   "cell_type": "code",
   "execution_count": 15,
   "metadata": {},
   "outputs": [
    {
     "data": {
      "text/markdown": [
       "${}2\\kappa \\left( - \\frac{1}{4}g_{\\mu \\nu} {\\kappa}^{-1} R+\\frac{1}{2}{\\kappa}^{-1} R_{\\mu \\nu}+\\frac{1}{2}g_{\\mu \\nu} {\\kappa}^{-1} \\Lambda - \\frac{1}{2}T_{\\mu \\nu}\\right) = 0$"
      ]
     },
     "execution_count": 15,
     "metadata": {},
     "output_type": "execute_result"
    },
    {
     "data": {
      "text/markdown": [
       "${} - \\frac{1}{2}g_{\\mu \\nu} R+R_{\\mu \\nu}+g_{\\mu \\nu} \\Lambda = \\kappa T_{\\mu \\nu}$"
      ]
     },
     "execution_count": 15,
     "metadata": {},
     "output_type": "execute_result"
    },
    {
     "data": {
      "text/markdown": [
       "${}G_{\\mu \\nu}+g_{\\mu \\nu} \\Lambda = \\kappa T_{\\mu \\nu}$"
      ]
     },
     "execution_count": 15,
     "metadata": {},
     "output_type": "execute_result"
    }
   ],
   "source": [
    "t1 = action[1][0][0][2]\n",
    "eom:= 2\\kappa @(t1) = 0;\n",
    "distribute(_)\n",
    "collect_factors(_)\n",
    "manip.to_rhs(_, $- \\kappa T_{\\mu\\nu}$);\n",
    "substitute(_, manip.swap_sides(einsteinTensor));"
   ]
  },
  {
   "cell_type": "code",
   "execution_count": null,
   "metadata": {},
   "outputs": [],
   "source": []
  }
 ],
 "metadata": {
  "kernelspec": {
   "display_name": "Cadabra",
   "language": "python",
   "name": "cadabra"
  },
  "language_info": {
   "file_extension": ".cdb",
   "mimetype": "text/cadabra",
   "name": "cadabra",
   "version": "2.0.0"
  }
 },
 "nbformat": 4,
 "nbformat_minor": 4
}
