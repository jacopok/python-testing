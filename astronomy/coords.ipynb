{
 "metadata": {
  "language_info": {
   "codemirror_mode": {
    "name": "ipython",
    "version": 3
   },
   "file_extension": ".py",
   "mimetype": "text/x-python",
   "name": "python",
   "nbconvert_exporter": "python",
   "pygments_lexer": "ipython3",
   "version": "3.8.5-final"
  },
  "orig_nbformat": 2,
  "kernelspec": {
   "name": "python_defaultSpec_1600504349672",
   "display_name": "Python 3.8.5 64-bit ('python38env': conda)"
  }
 },
 "nbformat": 4,
 "nbformat_minor": 2,
 "cells": [
  {
   "cell_type": "code",
   "execution_count": 22,
   "metadata": {},
   "outputs": [],
   "source": [
    "import numpy as np\n",
    "from astropy.time import Time\n",
    "import astropy.units as u\n",
    "from astropy.coordinates import solar_system_ephemeris, EarthLocation, get_icrs_coordinates, AltAz\n",
    "from astropy.coordinates import get_body_barycentric, get_body, get_moon\n",
    "t = Time.now()\n",
    "loc = EarthLocation.of_address('Pordenone, Italy')"
   ]
  },
  {
   "cell_type": "code",
   "execution_count": 23,
   "metadata": {},
   "outputs": [
    {
     "output_type": "execute_result",
     "data": {
      "text/plain": "<SkyCoord (AltAz: obstime=2020-09-19 08:58:29.326012, location=(4333831.2033362, 973470.0255359, 4561868.2083341) m, pressure=0.0 hPa, temperature=0.0 deg_C, relative_humidity=0.0, obswl=1.0 micron): (az, alt) in deg\n    (54.95186594, 54.71477923)>"
     },
     "metadata": {},
     "execution_count": 23
    }
   ],
   "source": [
    "mizar = get_icrs_coordinates('Mizar')\n",
    "alcor = get_icrs_coordinates('Alcor')\n",
    "aa = AltAz(location=loc, obstime=t)\n",
    "mizar.transform_to(aa)"
   ]
  },
  {
   "cell_type": "code",
   "execution_count": 21,
   "metadata": {},
   "outputs": [
    {
     "output_type": "execute_result",
     "data": {
      "text/plain": "<Angle 0.19682972 deg>",
      "text/latex": "$0^\\circ11{}^\\prime48.587{}^{\\prime\\prime}$"
     },
     "metadata": {},
     "execution_count": 21
    }
   ],
   "source": [
    "mizar.separation(alcor)"
   ]
  },
  {
   "cell_type": "code",
   "execution_count": null,
   "metadata": {},
   "outputs": [],
   "source": []
  }
 ]
}