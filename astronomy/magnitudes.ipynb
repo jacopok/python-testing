{
 "metadata": {
  "language_info": {
   "codemirror_mode": {
    "name": "ipython",
    "version": 3
   },
   "file_extension": ".py",
   "mimetype": "text/x-python",
   "name": "python",
   "nbconvert_exporter": "python",
   "pygments_lexer": "ipython3",
   "version": "3.8.5-final"
  },
  "orig_nbformat": 2,
  "kernelspec": {
   "name": "python_defaultSpec_1600850548687",
   "display_name": "Python 3.8.5 64-bit ('python38env': conda)"
  }
 },
 "nbformat": 4,
 "nbformat_minor": 2,
 "cells": [
  {
   "cell_type": "code",
   "execution_count": 1,
   "metadata": {},
   "outputs": [],
   "source": [
    "import astropy.units as u\n",
    "import astropy.constants as ac\n",
    "import numpy as np\n",
    "from astropy.time import Time\n",
    "\n",
    "from astropy.coordinates import solar_system_ephemeris\n",
    "from astropy.coordinates import get_body_barycentric, get_body, get_moon, get_body_barycentric_posvel\n",
    "\n",
    "from astropy.visualization import astropy_mpl_style\n",
    "import matplotlib.pyplot as plt\n",
    "plt.style.use(astropy_mpl_style)\n",
    "%matplotlib qt"
   ]
  },
  {
   "cell_type": "code",
   "execution_count": 16,
   "metadata": {},
   "outputs": [],
   "source": [
    "mag = u.MagUnit(u.photometric.bol)"
   ]
  },
  {
   "cell_type": "code",
   "execution_count": 33,
   "metadata": {},
   "outputs": [],
   "source": [
    "def convert_sky_pollution(x):\n",
    "    y = ((x * mag).physical / u.arcsec**2).to(u.bol / u.arcmin**2)\n",
    "    return((y * u.arcmin**2).to(mag))"
   ]
  },
  {
   "cell_type": "code",
   "execution_count": 37,
   "metadata": {},
   "outputs": [
    {
     "output_type": "execute_result",
     "data": {
      "text/plain": "(<Magnitude 0.10924375 mag(bol)>, 0.1092437480817825)"
     },
     "metadata": {},
     "execution_count": 37
    }
   ],
   "source": [
    "convert_sky_pollution(9),9 + 2.5*np.log10(1/3600)"
   ]
  },
  {
   "cell_type": "code",
   "execution_count": 40,
   "metadata": {},
   "outputs": [
    {
     "output_type": "execute_result",
     "data": {
      "text/plain": "  Primary name | Unit definition    | Aliases     \n[\n  G            | 0.0001 kg / (A s2) | Gauss, gauss ,\n  T            | kg / (A s2)        | Tesla, tesla ,\n]",
      "text/html": "<table style=\"width:50%\"><tr><th>Primary name</th><th>Unit definition</th><th>Aliases</th></tr><tr><td>G</td><td>0.0001 kg / (A s2)</td><td>Gauss, gauss</td></tr><tr><td>T</td><td>kg / (A s2)</td><td>Tesla, tesla</td></tr></table>"
     },
     "metadata": {},
     "execution_count": 40
    }
   ],
   "source": [
    "(u.G).find_equivalent_units()"
   ]
  },
  {
   "cell_type": "code",
   "execution_count": null,
   "metadata": {},
   "outputs": [],
   "source": []
  }
 ]
}