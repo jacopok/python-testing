{
 "metadata": {
  "language_info": {
   "codemirror_mode": {
    "name": "ipython",
    "version": 3
   },
   "file_extension": ".py",
   "mimetype": "text/x-python",
   "name": "python",
   "nbconvert_exporter": "python",
   "pygments_lexer": "ipython3",
   "version": "3.8.8-final"
  },
  "orig_nbformat": 2,
  "kernelspec": {
   "name": "python3",
   "display_name": "Python 3.8.8 64-bit ('python38env': conda)",
   "metadata": {
    "interpreter": {
     "hash": "d55324eb18c54775625b70d0acf23726c6b877bc32c1284a5dab775673b6545a"
    }
   }
  }
 },
 "nbformat": 4,
 "nbformat_minor": 2,
 "cells": [
  {
   "cell_type": "code",
   "execution_count": 1,
   "metadata": {},
   "outputs": [],
   "source": [
    "#%%\n",
    "import numpy as np\n",
    "from astropy.time import Time\n",
    "import astropy.units as u\n",
    "from astropy.coordinates import get_icrs_coordinates\n",
    "import astroquery\n",
    "from astroquery.simbad import Simbad\n",
    "import matplotlib.pyplot as plt\n",
    "from astropy.visualization import astropy_mpl_style\n",
    "plt.style.use(astropy_mpl_style)\n",
    "from astropy.coordinates import SkyCoord\n",
    "\n",
    "\n",
    "# %%\n",
    "\n",
    "orion_stars = [\n",
    "    'Betelgeuse',\n",
    "    'Rigel',\n",
    "    'Bellatrix',\n",
    "    'Mintaka',\n",
    "    'Alnilam',\n",
    "    'Alnitak',\n",
    "    'Saiph',\n",
    "    'Meissa',\n",
    "]\n",
    "\n",
    "Simbad.reset_votable_fields()\n",
    "Simbad.add_votable_fields('flux(B)', 'flux(V)')\n",
    "Simbad.add_votable_fields('parallax')\n",
    "\n",
    "#%%\n",
    "\n",
    "B_mag = []\n",
    "V_mag = []\n",
    "plx = []\n",
    "coords = []\n",
    "\n",
    "for star in orion_stars:\n",
    "    simbad_data = Simbad.query_object(star)\n",
    "    B_mag.append(simbad_data['FLUX_B'].data[0])\n",
    "    V_mag.append(simbad_data['FLUX_V'].data[0])\n",
    "    plx.append(simbad_data['PLX_VALUE'].data[0])  # mas\n",
    "    coords.append([simbad_data['RA'].data[0], simbad_data['DEC'].data[0]])\n",
    "\n",
    "B_mag = np.array(B_mag)\n",
    "V_mag = np.array(V_mag)\n",
    "plx = np.array(plx)\n",
    "dist_pc = 1000 / (plx)\n",
    "mag_correction = - 5 * (np.log10(dist_pc) - 1)\n",
    "\n",
    "ast_coords = []\n",
    "\n",
    "for c, d in zip(coords, dist_pc):\n",
    "    ast_coords.append(SkyCoord(ra=c[0], dec=c[1], unit=(u.hourangle, u.deg), distance = d * u.pc).cartesian)\n"
   ]
  },
  {
   "cell_type": "code",
   "execution_count": 7,
   "metadata": {},
   "outputs": [],
   "source": [
    "%matplotlib qt\n",
    "from mpl_toolkits.mplot3d import Axes3D\n",
    "fig = plt.figure()\n",
    "\n",
    "ax = Axes3D(fig)\n",
    "\n",
    "for c in ast_coords:\n",
    "    ax.scatter(c.x, c.y, c.z)\n",
    "\n",
    "ax.dist = 15\n",
    "\n",
    "plt.show()\n",
    "# %%\n"
   ]
  },
  {
   "cell_type": "code",
   "execution_count": null,
   "metadata": {},
   "outputs": [],
   "source": []
  }
 ]
}