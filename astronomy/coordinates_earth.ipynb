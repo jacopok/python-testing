{
 "metadata": {
  "language_info": {
   "codemirror_mode": {
    "name": "ipython",
    "version": 3
   },
   "file_extension": ".py",
   "mimetype": "text/x-python",
   "name": "python",
   "nbconvert_exporter": "python",
   "pygments_lexer": "ipython3",
   "version": "3.8.6-final"
  },
  "orig_nbformat": 2,
  "kernelspec": {
   "name": "Python 3.8.6 64-bit ('python38env': conda)",
   "display_name": "Python 3.8.6 64-bit ('python38env': conda)",
   "metadata": {
    "interpreter": {
     "hash": "d55324eb18c54775625b70d0acf23726c6b877bc32c1284a5dab775673b6545a"
    }
   }
  }
 },
 "nbformat": 4,
 "nbformat_minor": 2,
 "cells": [
  {
   "cell_type": "code",
   "execution_count": 2,
   "metadata": {},
   "outputs": [],
   "source": [
    "import numpy as np\n",
    "import astropy.units as u\n",
    "from astropy.coordinates import EarthLocation\n"
   ]
  },
  {
   "cell_type": "code",
   "execution_count": 98,
   "metadata": {},
   "outputs": [
    {
     "output_type": "execute_result",
     "data": {
      "text/plain": [
       "<Quantity 577.5 m>"
      ],
      "text/latex": "$577.5 \\; \\mathrm{m}$"
     },
     "metadata": {},
     "execution_count": 98
    }
   ],
   "source": [
    "(7.7 * u.cm * 7500).to(u.m)"
   ]
  },
  {
   "cell_type": "code",
   "execution_count": 3,
   "metadata": {},
   "outputs": [],
   "source": [
    "# canguro: 12.500438, 46.030509\n",
    "# incrocio: 12.508266, 46.026821\n",
    "# parcheggio: 12.499188, 46.019864\n",
    "\n",
    "canguro = EarthLocation.from_geodetic(12.500438, 46.030509)\n",
    "\n",
    "inizio_sentiero = EarthLocation.from_geodetic(12.500892, 46.029589)\n",
    "\n",
    "cima_collina = EarthLocation.from_geodetic(12.500701, 46.025092)\n",
    "\n",
    "parcheggio = EarthLocation.from_geodetic(12.499188, 46.019864)\n",
    "\n",
    "def p(pos):\n",
    "    return np.array([pos.x.value, pos.y.value, pos.z.value], dtype=np.float64) * pos.unit"
   ]
  },
  {
   "cell_type": "code",
   "execution_count": 32,
   "metadata": {},
   "outputs": [],
   "source": [
    "def az_dist(p1, p2):\n",
    "    # definitely broken, do not use\n",
    "    sep_vector = p(p2) - p(p1)\n",
    "    radius_earth = p(p1)\n",
    "    projector_planar = np.eye(3) - np.tensordot(radius_earth, radius_earth, axes=0) / np.linalg.norm(radius_earth)**2\n",
    "    \n",
    "    dist = np.linalg.norm(sep_vector)\n",
    "    north = projector_planar @ np.array([0, 0, 1])\n",
    "    # east = projector_planar@ (np.cross(radius_earth, north) / np.linalg.norm(radius_earth))\n",
    "    az = np.arccos(north @ sep_vector / dist).to(u.degree)\n",
    "    print(sep_vector / dist)\n",
    "    print(north)\n",
    "    # if sep_vector@east > 0: \n",
    "    #     az+= 180 * u.degree\n",
    "    return(az, dist)"
   ]
  },
  {
   "cell_type": "code",
   "execution_count": 27,
   "metadata": {},
   "outputs": [
    {
     "output_type": "stream",
     "name": "stdout",
     "text": [
      "(<Quantity 131.21209595 deg>, <Quantity 108.13200296 m>)\n"
     ]
    },
    {
     "output_type": "error",
     "ename": "NameError",
     "evalue": "name 'incrocio' is not defined",
     "traceback": [
      "\u001b[1;31m---------------------------------------------------------------------------\u001b[0m",
      "\u001b[1;31mNameError\u001b[0m                                 Traceback (most recent call last)",
      "\u001b[1;32m<ipython-input-27-94c21321baf8>\u001b[0m in \u001b[0;36m<module>\u001b[1;34m\u001b[0m\n\u001b[0;32m      1\u001b[0m \u001b[0mprint\u001b[0m\u001b[1;33m(\u001b[0m\u001b[0maz_dist\u001b[0m\u001b[1;33m(\u001b[0m\u001b[0mcanguro\u001b[0m\u001b[1;33m,\u001b[0m \u001b[0minizio_sentiero\u001b[0m\u001b[1;33m)\u001b[0m\u001b[1;33m)\u001b[0m\u001b[1;33m\u001b[0m\u001b[1;33m\u001b[0m\u001b[0m\n\u001b[1;32m----> 2\u001b[1;33m \u001b[0mprint\u001b[0m\u001b[1;33m(\u001b[0m\u001b[0maz_dist\u001b[0m\u001b[1;33m(\u001b[0m\u001b[0mincrocio\u001b[0m\u001b[1;33m,\u001b[0m \u001b[0mparcheggio\u001b[0m\u001b[1;33m)\u001b[0m\u001b[1;33m)\u001b[0m\u001b[1;33m\u001b[0m\u001b[1;33m\u001b[0m\u001b[0m\n\u001b[0m",
      "\u001b[1;31mNameError\u001b[0m: name 'incrocio' is not defined"
     ]
    }
   ],
   "source": [
    "print(az_dist(canguro, inizio_sentiero))\n",
    "print(az_dist(incrocio, parcheggio))"
   ]
  },
  {
   "cell_type": "code",
   "execution_count": 28,
   "metadata": {},
   "outputs": [],
   "source": [
    "import pyproj\n",
    "geodesic = pyproj.Geod(ellps='WGS84')\n",
    "\n",
    "def az_dist_2(p1, p2):\n",
    "    lat1, long1 = p1.lat.value, p1.lon.value\n",
    "    lat2, long2 = p2.lat.value, p2.lon.value\n",
    "    fwd_azimuth, back_azimuth, distance = geodesic.inv(lat1, long1, lat2, long2)\n",
    "    return(270-back_azimuth, distance)"
   ]
  },
  {
   "cell_type": "code",
   "execution_count": 29,
   "metadata": {},
   "outputs": [
    {
     "output_type": "execute_result",
     "data": {
      "text/plain": [
       "(153.33270675810263, 111.90546380654924)"
      ]
     },
     "metadata": {},
     "execution_count": 29
    }
   ],
   "source": [
    "az_dist_2(canguro, inizio_sentiero)"
   ]
  },
  {
   "cell_type": "code",
   "execution_count": 30,
   "metadata": {},
   "outputs": [],
   "source": [
    "test = EarthLocation.from_geodetic(0, 45)\n",
    "test_north = EarthLocation.from_geodetic(0, 45+1e-4)\n",
    "test_east = EarthLocation.from_geodetic(1e-4, 45)"
   ]
  },
  {
   "cell_type": "code",
   "execution_count": 33,
   "metadata": {},
   "outputs": [
    {
     "output_type": "stream",
     "name": "stdout",
     "text": [
      "[-0.7071074   0.          0.70710616]\n[-0.49998872  0.          0.50335839]\n(<Quantity 44.80790225 deg>, <Quantity 11.11317784 m>)\n[-8.72655342e-07  1.00000000e+00  0.00000000e+00]\n[-0.49998872  0.          0.50335839]\n(<Quantity 89.999975 deg>, <Quantity 7.88468351 m>)\n(360.0, 11.131949081278844)\n(90.0, 11.057427582159868)\n"
     ]
    }
   ],
   "source": [
    "print(az_dist(test, test_north))\n",
    "print(az_dist(test, test_east))\n",
    "print(az_dist_2(test, test_north))\n",
    "print(az_dist_2(test, test_east))"
   ]
  },
  {
   "cell_type": "code",
   "execution_count": 22,
   "metadata": {},
   "outputs": [
    {
     "output_type": "execute_result",
     "data": {
      "text/plain": [
       "<Quantity 7.87143102 m>"
      ],
      "text/latex": "$7.871431 \\; \\mathrm{m}$"
     },
     "metadata": {},
     "execution_count": 22
    }
   ],
   "source": [
    "aa.R_earth * np.cos(45 * u.degree) * 1e-4 * np.pi / 180"
   ]
  },
  {
   "cell_type": "code",
   "execution_count": null,
   "metadata": {},
   "outputs": [],
   "source": []
  }
 ]
}