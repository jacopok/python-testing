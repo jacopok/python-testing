{
 "cells": [
  {
   "cell_type": "code",
   "execution_count": 56,
   "metadata": {},
   "outputs": [],
   "source": [
    "import numpy as np\n",
    "import matplotlib.pyplot as plt\n",
    "from scipy.optimize import curve_fit\n",
    "from scipy.stats import chi2"
   ]
  },
  {
   "cell_type": "markdown",
   "metadata": {},
   "source": [
    "We generate data in the form \n",
    "\n",
    "$$\n",
    "y = f(x) + \\varepsilon\n",
    "$$\n",
    "\n",
    "where: `y_noise` $= \\varepsilon \\sim \\mathcal{N}(\\mu = 0, \\sigma)$, with a fixed value for $\\sigma$.\n",
    "Also, we take $f(x)$ to be $f(x; a, b) = ax + b$."
   ]
  },
  {
   "cell_type": "code",
   "execution_count": 57,
   "metadata": {},
   "outputs": [],
   "source": [
    "N = 20\n",
    "sigma = 1\n",
    "x = np.linspace(0, 100, num = N)\n",
    "\n",
    "np.random.seed(2019)\n",
    "y_noise = np.random.normal(scale=sigma, size=N)\n",
    "error_deviation_array = sigma * np.ones(N)\n",
    "\n",
    "def f(x, a, b):\n",
    "    return(a*x + b)\n",
    "\n",
    "a = 0.5\n",
    "b = - 10\n",
    "\n",
    "y = f(x, a, b) + y_noise"
   ]
  },
  {
   "cell_type": "markdown",
   "metadata": {},
   "source": [
    "We fit the data to the model using a least-squares method, and estimate the parameters $a$ and $b$ with their standard deviations, `sigma_a` and `sigma_b` respectively.\n",
    "\n",
    "We then calculate the value of the $\\chi ^2$ variable corresponding to the data as:\n",
    "\n",
    "$$\n",
    "\\chi ^2 _{obs} = \\sum _{i=0} ^{N-1}\n",
    "\\left( \\frac{y - y_{pred}}{\\sigma_y} \\right) ^2\n",
    "$$"
   ]
  },
  {
   "cell_type": "code",
   "execution_count": 58,
   "metadata": {},
   "outputs": [],
   "source": [
    "popt, pcov = curve_fit(f, x, y, absolute_sigma=True)\n",
    "\n",
    "popt_errors = np.sqrt(np.diagonal(pcov))\n",
    "\n",
    "a = popt[0]\n",
    "b = popt[1]\n",
    "sigma_a = popt_errors[0]\n",
    "sigma_b = popt_errors[1]\n",
    "\n",
    "y_predictions = f(x, *popt)\n",
    "square_deviations = ((y - y_predictions)/error_deviation_array)**2\n",
    "\n",
    "chi2_obs = np.sum(square_deviations)"
   ]
  },
  {
   "cell_type": "markdown",
   "metadata": {},
   "source": [
    "We expect the $\\chi^2_{obs}$ to follow a $\\chi^2$ distribution with `df`$= N-2$ degrees of freedom.\n",
    "\n",
    "We calculate its distribution and plot the obtained value, as well as the distribution mean (which is exactly `df`)."
   ]
  },
  {
   "cell_type": "code",
   "execution_count": 59,
   "metadata": {},
   "outputs": [
    {
     "data": {
      "text/plain": [
       "<matplotlib.legend.Legend at 0x7f32a88bce48>"
      ]
     },
     "execution_count": 59,
     "metadata": {},
     "output_type": "execute_result"
    },
    {
     "data": {
      "image/png": "[encoded data removed]",
      "text/plain": [
       "<Figure size 432x288 with 1 Axes>"
      ]
     },
     "metadata": {
      "needs_background": "light"
     },
     "output_type": "display_data"
    }
   ],
   "source": [
    "df = N-2\n",
    "chi2_distribution = chi2(df=df)\n",
    "\n",
    "chi2_values = np.linspace(0, 3*df)\n",
    "plt.plot(chi2_values, chi2_distribution.pdf(chi2_values), label=\"Distribution\", c='r')\n",
    "plt.axvline(x=chi2_obs, label=\"Observed value\")\n",
    "plt.axvline(x=chi2_distribution.mean(), label=\"Distribution mean\", c='g')\n",
    "plt.xlabel(\"Chi2 value\")\n",
    "plt.legend()"
   ]
  },
  {
   "cell_type": "code",
   "execution_count": null,
   "metadata": {},
   "outputs": [],
   "source": []
  }
 ],
 "metadata": {
  "kernelspec": {
   "display_name": "Python 3",
   "language": "python",
   "name": "python3"
  },
  "language_info": {
   "codemirror_mode": {
    "name": "ipython",
    "version": 3
   },
   "file_extension": ".py",
   "mimetype": "text/x-python",
   "name": "python",
   "nbconvert_exporter": "python",
   "pygments_lexer": "ipython3",
   "version": "3.7.2"
  }
 },
 "nbformat": 4,
 "nbformat_minor": 2
}
